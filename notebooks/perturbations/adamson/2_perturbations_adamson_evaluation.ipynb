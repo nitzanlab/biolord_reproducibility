{
 "cells": [
  {
   "cell_type": "markdown",
   "id": "4154172c-0e49-4f00-8406-111a99cf35f8",
   "metadata": {},
   "source": [
    "# Comparison of model predictions over Perturb-seq (1-gene) data by _Adamson et al._[[1]](https://doi.org/10.1016/j.cell.2016.11.048) \n",
    "\n",
    "\n",
    "This notebook compares the performance of a `biolord` model to `GEARS`[[2]](https://doi.org/10.1101/2022.07.12.499735) in predictions over the Perturb-Seq dataset by _Adamson et al._[[1]](https://doi.org/10.1016/j.cell.2016.11.048) and compares its performance to \n",
    "\n",
    "Running this notebook requires running:\n",
    "1. [`1_perturbations_adamson_preprocessing.ipynb`](https://github.com/nitzanlab/biolord_reproducibility/blob/main/notebooks/perturbations/adamson/1_perturbations_adamson_preprocessing.ipynb) which creates the `adata` objects, the normalization values and runs the `GEARS` comparison.\n",
    "2. [`base_experiment_adamson.py`](https://github.com/nitzanlab/biolord_reproducibility/blob/main/scripts/biolord/adamson/base_experiment_adamson.py): set the flag `--optimal-params True` to use the reported configuration parameters.\n",
    "\n",
    "[[1] Adamson, B., Norman, T. M., Jost, M., Cho, M. Y., Nuñez, J. K., Chen, Y., ... & Weissman, J. S. (2016). A multiplexed single-cell CRISPR screening platform enables systematic dissection of the unfolded protein response. Cell, 167(7), 1867-1882.](https://doi.org/10.1016/j.cell.2016.11.048)\n",
    "\n",
    "[[2] Roohani, Y., Huang, K., & Leskovec, J. (2022). GEARS: Predicting transcriptional outcomes of novel multi-gene perturbations. BioRxiv, 2022-07.](https://doi.org/10.1101/2022.07.12.499735)\n",
    "\n"
   ]
  },
  {
   "cell_type": "markdown",
   "id": "d62763eb-fa09-4a96-a361-bd6c5a118c99",
   "metadata": {
    "tags": []
   },
   "source": [
    "## Load packages"
   ]
  },
  {
   "cell_type": "code",
   "execution_count": 1,
   "id": "64797f53-2773-45a8-b4cb-07fd3d3df7f5",
   "metadata": {
    "tags": []
   },
   "outputs": [],
   "source": [
    "%load_ext autoreload\n",
    "%autoreload 2"
   ]
  },
  {
   "cell_type": "code",
   "execution_count": 2,
   "id": "b3b884cd-375c-46a0-a3c1-283f850e416e",
   "metadata": {
    "tags": []
   },
   "outputs": [],
   "source": [
    "import os\n",
    "import sys\n",
    "import scanpy as sc\n",
    "import numpy as np\n",
    "import pandas as pd\n",
    "import seaborn as sns\n",
    "import matplotlib.pyplot as plt\n",
    "import pickle"
   ]
  },
  {
   "cell_type": "code",
   "execution_count": 3,
   "id": "64dab507-62ce-4087-88be-de249950019e",
   "metadata": {
    "tags": []
   },
   "outputs": [],
   "source": [
    "sys.path.append(\"../../../\")\n",
    "sys.path.append(\"../../../utils/\")\n",
    "from paths import DATA_DIR, FIG_DIR"
   ]
  },
  {
   "cell_type": "markdown",
   "id": "3d5a9e7f-c1c9-444a-a9c4-34af13d6262d",
   "metadata": {},
   "source": [
    "## Set parameters"
   ]
  },
  {
   "cell_type": "code",
   "execution_count": 4,
   "id": "b26b07f8-8d69-45f1-b2b6-097760090920",
   "metadata": {
    "tags": []
   },
   "outputs": [],
   "source": [
    "import mplscience\n",
    "\n",
    "mplscience.set_style()\n",
    "\n",
    "plt.rcParams[\"legend.scatterpoints\"] = 1"
   ]
  },
  {
   "cell_type": "code",
   "execution_count": 5,
   "id": "056d48a1-fde5-4d2f-902a-eb767fb8a778",
   "metadata": {
    "tags": []
   },
   "outputs": [],
   "source": [
    "DATA_DIR_LCL = str(DATA_DIR) + \"/perturbations/adamson/\"\n",
    "FIG_DIR_LCL = str(FIG_DIR) + \"/perturbations/adamson/\""
   ]
  },
  {
   "cell_type": "markdown",
   "id": "fbce48a8-222a-4386-b6eb-167ffbec4adb",
   "metadata": {},
   "source": [
    "## Evaluate"
   ]
  },
  {
   "cell_type": "code",
   "execution_count": 6,
   "id": "96190e1c-0bdc-4b60-8748-0b6402dd74c8",
   "metadata": {
    "tags": []
   },
   "outputs": [],
   "source": [
    "gears_res = pd.read_csv(DATA_DIR_LCL + \"gears_normalized_mse_de_seeds.csv\", index_col=0).T"
   ]
  },
  {
   "cell_type": "code",
   "execution_count": 7,
   "id": "003a9225-2be8-4026-9cc4-129371dff292",
   "metadata": {
    "tags": []
   },
   "outputs": [],
   "source": [
    "biolord_res = pd.read_csv(DATA_DIR_LCL + \"biolord_normalized_mse_de_seeds.csv\", index_col=0).T"
   ]
  },
  {
   "cell_type": "code",
   "execution_count": 8,
   "id": "dfe8597e-fe0c-44ea-9e23-a6370a9ba067",
   "metadata": {
    "tags": []
   },
   "outputs": [],
   "source": [
    "df = pd.concat([biolord_res, gears_res], keys=['biolord', 'GEARS']).reset_index()\n",
    "df = df.melt(id_vars=[\"level_0\", \"level_1\"], value_vars=df.columns[2:])"
   ]
  },
  {
   "cell_type": "code",
   "execution_count": 9,
   "id": "ae336de0-7f23-437a-988c-eb821fa93a3b",
   "metadata": {
    "tags": []
   },
   "outputs": [],
   "source": [
    "test_set = {\n",
    "    \"unseen_single\": \"1 gene\\n(1 unseen of 1)\"\n",
    "}\n",
    "df = df.replace(test_set)\n",
    "\n",
    "df = df.rename(columns={\n",
    "    \"level_0\": \"method\",\n",
    "    \"level_a\": \"seed\",\n",
    "    \"variable\": \"test set\",\n",
    "    \"value\": \"MSE 20 de genes\"\n",
    "})\n",
    "\n",
    "df = df[df[\"test set\"].isin(list(test_set.values()))]"
   ]
  },
  {
   "cell_type": "code",
   "execution_count": 10,
   "id": "35cb2345-c26d-4dd6-a51c-a474000b0731",
   "metadata": {
    "tags": []
   },
   "outputs": [
    {
     "data": {
      "image/png": "[encoded data removed]",
      "text/plain": [
       "<Figure size 600x400 with 1 Axes>"
      ]
     },
     "metadata": {},
     "output_type": "display_data"
    }
   ],
   "source": [
    "fig, axs = plt.subplots(1,1, figsize=(6,4))\n",
    "sns.boxplot(data=df, #[df[\"test set\"] != \"1 gene\\n(1 unseen of 1)\"], \n",
    "            x=\"test set\", \n",
    "            y=\"MSE 20 de genes\",\n",
    "            hue=\"method\", \n",
    "            hue_order = ['biolord', 'GEARS'],\n",
    "            palette= [\"#339AB8\", \"#9AB833\"],\n",
    "            ax=axs\n",
    "           )\n",
    "\n",
    "axs.set_axisbelow(True)\n",
    "axs.grid(\".\", color=\"darkgrey\", axis=\"y\")\n",
    "\n",
    "x_labels = axs.get_xticklabels()\n",
    "axs.set_xticklabels(x_labels, fontsize=14)\n",
    "axs.set_xlabel(\"\", fontsize=14)\n",
    "axs.set_ylabel(\"Normalized MSE\\n(top 20 DE genes)\", fontsize=14)\n",
    "axs.set_ylim(0,1)\n",
    "\n",
    "plt.legend(bbox_to_anchor=(1.05, 1), loc='upper left', borderaxespad=0, frameon=True)\n",
    "plt.savefig(FIG_DIR_LCL + \"adamson_res.png\", format=\"png\", dpi=300, bbox_inches='tight')\n",
    "plt.show()"
   ]
  },
  {
   "cell_type": "code",
   "execution_count": 11,
   "id": "7e27a906-a8eb-4fb3-95a8-8b4f099e00f7",
   "metadata": {
    "tags": []
   },
   "outputs": [
    {
     "data": {
      "text/html": [
       "<div>\n",
       "<style scoped>\n",
       "    .dataframe tbody tr th:only-of-type {\n",
       "        vertical-align: middle;\n",
       "    }\n",
       "\n",
       "    .dataframe tbody tr th {\n",
       "        vertical-align: top;\n",
       "    }\n",
       "\n",
       "    .dataframe thead th {\n",
       "        text-align: right;\n",
       "    }\n",
       "</style>\n",
       "<table border=\"1\" class=\"dataframe\">\n",
       "  <thead>\n",
       "    <tr style=\"text-align: right;\">\n",
       "      <th></th>\n",
       "      <th>unseen_single</th>\n",
       "    </tr>\n",
       "  </thead>\n",
       "  <tbody>\n",
       "    <tr>\n",
       "      <th>mse_de_seed1</th>\n",
       "      <td>0.468040</td>\n",
       "    </tr>\n",
       "    <tr>\n",
       "      <th>mse_de_seed2</th>\n",
       "      <td>0.376397</td>\n",
       "    </tr>\n",
       "    <tr>\n",
       "      <th>mse_de_seed3</th>\n",
       "      <td>0.367184</td>\n",
       "    </tr>\n",
       "    <tr>\n",
       "      <th>mse_de_seed4</th>\n",
       "      <td>0.276424</td>\n",
       "    </tr>\n",
       "    <tr>\n",
       "      <th>mse_de_seed5</th>\n",
       "      <td>0.379262</td>\n",
       "    </tr>\n",
       "    <tr>\n",
       "      <th>mean</th>\n",
       "      <td>0.373461</td>\n",
       "    </tr>\n",
       "  </tbody>\n",
       "</table>\n",
       "</div>"
      ],
      "text/plain": [
       "              unseen_single\n",
       "mse_de_seed1       0.468040\n",
       "mse_de_seed2       0.376397\n",
       "mse_de_seed3       0.367184\n",
       "mse_de_seed4       0.276424\n",
       "mse_de_seed5       0.379262\n",
       "mean               0.373461"
      ]
     },
     "execution_count": 11,
     "metadata": {},
     "output_type": "execute_result"
    }
   ],
   "source": [
    "biolord_res.loc[\"mean\"] = biolord_res.mean(0)\n",
    "biolord_res"
   ]
  },
  {
   "cell_type": "code",
   "execution_count": 12,
   "id": "c30014f8-00ad-4eff-83dc-9cd3619acbb0",
   "metadata": {
    "tags": []
   },
   "outputs": [
    {
     "data": {
      "text/html": [
       "<div>\n",
       "<style scoped>\n",
       "    .dataframe tbody tr th:only-of-type {\n",
       "        vertical-align: middle;\n",
       "    }\n",
       "\n",
       "    .dataframe tbody tr th {\n",
       "        vertical-align: top;\n",
       "    }\n",
       "\n",
       "    .dataframe thead th {\n",
       "        text-align: right;\n",
       "    }\n",
       "</style>\n",
       "<table border=\"1\" class=\"dataframe\">\n",
       "  <thead>\n",
       "    <tr style=\"text-align: right;\">\n",
       "      <th></th>\n",
       "      <th>combo_seen0</th>\n",
       "      <th>combo_seen1</th>\n",
       "      <th>combo_seen2</th>\n",
       "      <th>unseen_single</th>\n",
       "    </tr>\n",
       "  </thead>\n",
       "  <tbody>\n",
       "    <tr>\n",
       "      <th>mse_de_seed1</th>\n",
       "      <td>NaN</td>\n",
       "      <td>NaN</td>\n",
       "      <td>NaN</td>\n",
       "      <td>0.633826</td>\n",
       "    </tr>\n",
       "    <tr>\n",
       "      <th>mse_de_seed2</th>\n",
       "      <td>NaN</td>\n",
       "      <td>NaN</td>\n",
       "      <td>NaN</td>\n",
       "      <td>0.500554</td>\n",
       "    </tr>\n",
       "    <tr>\n",
       "      <th>mse_de_seed3</th>\n",
       "      <td>NaN</td>\n",
       "      <td>NaN</td>\n",
       "      <td>NaN</td>\n",
       "      <td>0.489887</td>\n",
       "    </tr>\n",
       "    <tr>\n",
       "      <th>mse_de_seed4</th>\n",
       "      <td>NaN</td>\n",
       "      <td>NaN</td>\n",
       "      <td>NaN</td>\n",
       "      <td>0.285509</td>\n",
       "    </tr>\n",
       "    <tr>\n",
       "      <th>mse_de_seed5</th>\n",
       "      <td>NaN</td>\n",
       "      <td>NaN</td>\n",
       "      <td>NaN</td>\n",
       "      <td>0.417884</td>\n",
       "    </tr>\n",
       "    <tr>\n",
       "      <th>mean</th>\n",
       "      <td>NaN</td>\n",
       "      <td>NaN</td>\n",
       "      <td>NaN</td>\n",
       "      <td>0.465532</td>\n",
       "    </tr>\n",
       "  </tbody>\n",
       "</table>\n",
       "</div>"
      ],
      "text/plain": [
       "              combo_seen0  combo_seen1  combo_seen2  unseen_single\n",
       "mse_de_seed1          NaN          NaN          NaN       0.633826\n",
       "mse_de_seed2          NaN          NaN          NaN       0.500554\n",
       "mse_de_seed3          NaN          NaN          NaN       0.489887\n",
       "mse_de_seed4          NaN          NaN          NaN       0.285509\n",
       "mse_de_seed5          NaN          NaN          NaN       0.417884\n",
       "mean                  NaN          NaN          NaN       0.465532"
      ]
     },
     "execution_count": 12,
     "metadata": {},
     "output_type": "execute_result"
    }
   ],
   "source": [
    "gears_res.loc[\"mean\"] = gears_res.mean(0)\n",
    "gears_res"
   ]
  },
  {
   "cell_type": "code",
   "execution_count": null,
   "id": "00cd6ec9-b559-42a2-969c-e6bfef1cba7c",
   "metadata": {},
   "outputs": [],
   "source": []
  }
 ],
 "metadata": {
  "kernelspec": {
   "display_name": "venvzp",
   "language": "python",
   "name": "venvzp"
  },
  "language_info": {
   "codemirror_mode": {
    "name": "ipython",
    "version": 3
   },
   "file_extension": ".py",
   "mimetype": "text/x-python",
   "name": "python",
   "nbconvert_exporter": "python",
   "pygments_lexer": "ipython3",
   "version": "3.9.2"
  }
 },
 "nbformat": 4,
 "nbformat_minor": 5
}
