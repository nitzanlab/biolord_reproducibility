{
 "cells": [
  {
   "cell_type": "markdown",
   "id": "d7bb0670-15f5-4c0e-a5b8-e35c1fb793fd",
   "metadata": {
    "tags": []
   },
   "source": [
    "# Supplementary analysis over `sci-Plex 3`[[1]](https://www.science.org/doi/10.1126/science.aax6234) \n",
    "\n",
    "This notebook relies on pre-processed data obtained in [`1_perturbations_sciplex3_preprocessing.ipynb`](https://github.com/nitzanlab/biolord_reproducibility/blob/main/notebooks/perturbations/sciplex3/1_perturbations_sciplex3_preprocessing.ipynb).<br>\n",
    "Alternatively the processed adata can be downloaded from figshare, [`sciplex3_biolord.h5ad`](https://figshare.com/ndownloader/files/39324305).\n",
    "\n",
    "Here we load pre-computed evaluations of `biolord` and `chemCPA`[[2]](https://openreview.net/forum?id=vRrFVHxFiXJ) on the `sci-Plex 3`[[1]](https://www.science.org/doi/10.1126/science.aax6234) dataset over different settings:\n",
    "[]including running over 10 seeds.  \n",
    "\n",
    "[[1] Srivatsan, S. R., McFaline-Figueroa, J. L., Ramani, V., Saunders, L., Cao, J., Packer, J., ... & Trapnell, C. (2020). Massively multiplex chemical transcriptomics at single-cell resolution. Science, 367(6473), 45-51.](https://www.science.org/doi/10.1126/science.aax6234)\n",
    "\n",
    "[[2] Hetzel, Leon, Simon Böhm, Niki Kilbertus, Stephan Günnemann, Mohammad Lotfollahi, and Fabian Theis. \"Predicting Cellular Responses to Novel Drug Perturbations at a Single-Cell Resolution\" Advances in Neural Information Processing Systems (2022).](https://openreview.net/forum?id=vRrFVHxFiXJ)\n"
   ]
  },
  {
   "cell_type": "markdown",
   "id": "ca94488c-2a6f-494c-bde0-3d95a491f98a",
   "metadata": {
    "tags": []
   },
   "source": [
    "## load packages"
   ]
  },
  {
   "cell_type": "code",
   "execution_count": 1,
   "id": "02de2dc6-6a54-428d-aee9-422986143f61",
   "metadata": {
    "tags": []
   },
   "outputs": [],
   "source": [
    "%load_ext autoreload\n",
    "%autoreload 2"
   ]
  },
  {
   "cell_type": "code",
   "execution_count": 2,
   "id": "ff4307d6-c1c4-4884-812c-7d1171a40d1f",
   "metadata": {
    "tags": []
   },
   "outputs": [],
   "source": [
    "import os\n",
    "import sys\n",
    "import scanpy as sc\n",
    "import anndata\n",
    "import numpy as np\n",
    "import pandas as pd\n",
    "import torch\n",
    "\n",
    "import seaborn as sns\n",
    "import matplotlib.pyplot as plt\n",
    "\n",
    "import biolord"
   ]
  },
  {
   "cell_type": "code",
   "execution_count": 5,
   "id": "f761951f-4667-4342-9730-6713a3c54ba0",
   "metadata": {
    "tags": []
   },
   "outputs": [],
   "source": [
    "sys.path.append(\"../../../\")\n",
    "sys.path.append(\"../../../utils/\")\n",
    "\n",
    "from paths import DATA_DIR, FIG_DIR\n",
    "\n",
    "from utils_perturbations_sciplex3 import compute_prediction, compute_baseline, create_df\n",
    "from parameters_sciplex3 import (\n",
    "    groups,\n",
    "    groups_colors,\n",
    "    module_params,\n",
    "    trainer_params,\n",
    "    ood_drugs,\n",
    ")"
   ]
  },
  {
   "cell_type": "markdown",
   "id": "48979fb7-ba79-46d4-b5fb-a2c7d779f0ef",
   "metadata": {},
   "source": [
    "## set parameters"
   ]
  },
  {
   "cell_type": "code",
   "execution_count": 6,
   "id": "f5499647-4560-42f2-b1ac-60143e1c5ff7",
   "metadata": {
    "tags": []
   },
   "outputs": [],
   "source": [
    "import mplscience\n",
    "\n",
    "mplscience.set_style()\n",
    "\n",
    "plt.rcParams[\"legend.scatterpoints\"] = 1"
   ]
  },
  {
   "cell_type": "code",
   "execution_count": 7,
   "id": "66f09d10-17d3-43e5-8381-7625375f583c",
   "metadata": {
    "tags": []
   },
   "outputs": [],
   "source": [
    "DATA_DIR_LCL = DATA_DIR + \"/perturbation-celltype/\"\n",
    "FIG_DIR_LCL = FIG_DIR + \"/perturbation-celltype/\""
   ]
  },
  {
   "cell_type": "markdown",
   "id": "ad804c09-1788-491f-9399-10bb7018a683",
   "metadata": {},
   "source": [
    "## Random `seed` initializations\n",
    "\n",
    "To compute `seed` results we train models using `scripts/chemCPA` and `scripts/biolord/sciplex3`, modifying the seed parameter."
   ]
  },
  {
   "cell_type": "code",
   "execution_count": 8,
   "id": "6660749d-3f4b-4174-942e-54162d6e8192",
   "metadata": {
    "tags": []
   },
   "outputs": [],
   "source": [
    "df_biolord = pd.read_csv(DATA_DIR_LCL + \"seed_check_biolord.csv\", index_col=0) \n",
    "df_biolord[\"type\"] = \"biolord\"\n",
    "df_biolord[\"df_all_mean\"] = df_biolord[\"mean_all_biolord/1.0\"]\n",
    "df_biolord = df_biolord.rename(columns=lambda x: x.replace(\"mean_all_biolord\", \"mean_all\"))\n",
    "\n",
    "\n",
    "df_baseline = df_biolord[['mean_all_baseline/0.001', 'mean_all_baseline/0.01', 'mean_all_baseline/0.1', 'mean_all_baseline/1.0']].copy()\n",
    "df_baseline[\"type\"] = \"baseline\"\n",
    "df_baseline[\"df_all_mean\"] = df_biolord[\"mean_all_baseline/1.0\"]\n",
    "df_baseline = df_baseline.rename(columns=lambda x: x.replace(\"mean_all_baseline\", \"mean_all\"))\n",
    "\n",
    "df_chem_pre = pd.read_csv(DATA_DIR_LCL + \"seed_check_chemcpa_pretrained_full.csv\", index_col=0)\n",
    "df_chem_pre[\"type\"] = \"chemCPA-pre\"\n",
    "df_chem_pre = df_chem_pre.rename(columns=lambda x: x.replace(\"mean_all_chemCPA\", \"mean_all\"))\n",
    "\n",
    "df_chem = pd.read_csv(DATA_DIR_LCL + \"seed_check_chemcpa_full.csv\", index_col=0)\n",
    "df_chem[\"type\"] = \"chemCPA\"\n",
    "df_chem = df_chem.rename(columns=lambda x: x.replace(\"mean_all_chemCPA\", \"mean_all\"))\n",
    "df_full = pd.concat([df_baseline, df_chem, df_chem_pre, df_biolord])"
   ]
  },
  {
   "cell_type": "code",
   "execution_count": 9,
   "id": "97f292af-cad2-4593-b833-6137bceb8755",
   "metadata": {
    "tags": []
   },
   "outputs": [],
   "source": [
    "df_full = df_full[[\n",
    "    'mean_all/0.001',\n",
    "    'mean_all/0.01', \n",
    "    'mean_all/0.1', \n",
    "    'mean_all/1.0', \n",
    "    \"type\"\n",
    "]]"
   ]
  },
  {
   "cell_type": "code",
   "execution_count": 10,
   "id": "bff08cf6-a084-423b-85f5-9560a1b37b3a",
   "metadata": {
    "tags": []
   },
   "outputs": [
    {
     "data": {
      "text/html": [
       "<div>\n",
       "<style scoped>\n",
       "    .dataframe tbody tr th:only-of-type {\n",
       "        vertical-align: middle;\n",
       "    }\n",
       "\n",
       "    .dataframe tbody tr th {\n",
       "        vertical-align: top;\n",
       "    }\n",
       "\n",
       "    .dataframe thead th {\n",
       "        text-align: right;\n",
       "    }\n",
       "</style>\n",
       "<table border=\"1\" class=\"dataframe\">\n",
       "  <thead>\n",
       "    <tr style=\"text-align: right;\">\n",
       "      <th></th>\n",
       "      <th>mean_all/0.001</th>\n",
       "      <th>mean_all/0.01</th>\n",
       "      <th>mean_all/0.1</th>\n",
       "      <th>mean_all/1.0</th>\n",
       "    </tr>\n",
       "    <tr>\n",
       "      <th>type</th>\n",
       "      <th></th>\n",
       "      <th></th>\n",
       "      <th></th>\n",
       "      <th></th>\n",
       "    </tr>\n",
       "  </thead>\n",
       "  <tbody>\n",
       "    <tr>\n",
       "      <th>baseline</th>\n",
       "      <td>0.866243</td>\n",
       "      <td>0.785759</td>\n",
       "      <td>0.631232</td>\n",
       "      <td>0.380029</td>\n",
       "    </tr>\n",
       "    <tr>\n",
       "      <th>biolord</th>\n",
       "      <td>0.881238</td>\n",
       "      <td>0.808281</td>\n",
       "      <td>0.725169</td>\n",
       "      <td>0.739689</td>\n",
       "    </tr>\n",
       "    <tr>\n",
       "      <th>chemCPA</th>\n",
       "      <td>0.780040</td>\n",
       "      <td>0.723115</td>\n",
       "      <td>0.591426</td>\n",
       "      <td>0.396102</td>\n",
       "    </tr>\n",
       "    <tr>\n",
       "      <th>chemCPA-pre</th>\n",
       "      <td>0.878069</td>\n",
       "      <td>0.812955</td>\n",
       "      <td>0.688178</td>\n",
       "      <td>0.507024</td>\n",
       "    </tr>\n",
       "  </tbody>\n",
       "</table>\n",
       "</div>"
      ],
      "text/plain": [
       "             mean_all/0.001  mean_all/0.01  mean_all/0.1  mean_all/1.0\n",
       "type                                                                  \n",
       "baseline           0.866243       0.785759      0.631232      0.380029\n",
       "biolord            0.881238       0.808281      0.725169      0.739689\n",
       "chemCPA            0.780040       0.723115      0.591426      0.396102\n",
       "chemCPA-pre        0.878069       0.812955      0.688178      0.507024"
      ]
     },
     "execution_count": 10,
     "metadata": {},
     "output_type": "execute_result"
    }
   ],
   "source": [
    "df_full.groupby(by=[\"type\"]).mean()"
   ]
  },
  {
   "cell_type": "code",
   "execution_count": 11,
   "id": "62e3f31d-e27e-4f0a-b0f7-b60db17adc99",
   "metadata": {
    "tags": []
   },
   "outputs": [
    {
     "data": {
      "text/html": [
       "<div>\n",
       "<style scoped>\n",
       "    .dataframe tbody tr th:only-of-type {\n",
       "        vertical-align: middle;\n",
       "    }\n",
       "\n",
       "    .dataframe tbody tr th {\n",
       "        vertical-align: top;\n",
       "    }\n",
       "\n",
       "    .dataframe thead th {\n",
       "        text-align: right;\n",
       "    }\n",
       "</style>\n",
       "<table border=\"1\" class=\"dataframe\">\n",
       "  <thead>\n",
       "    <tr style=\"text-align: right;\">\n",
       "      <th></th>\n",
       "      <th>mean_all/0.001</th>\n",
       "      <th>mean_all/0.01</th>\n",
       "      <th>mean_all/0.1</th>\n",
       "      <th>mean_all/1.0</th>\n",
       "    </tr>\n",
       "    <tr>\n",
       "      <th>type</th>\n",
       "      <th></th>\n",
       "      <th></th>\n",
       "      <th></th>\n",
       "      <th></th>\n",
       "    </tr>\n",
       "  </thead>\n",
       "  <tbody>\n",
       "    <tr>\n",
       "      <th>baseline</th>\n",
       "      <td>0.000000</td>\n",
       "      <td>0.000000</td>\n",
       "      <td>0.000000</td>\n",
       "      <td>0.000000</td>\n",
       "    </tr>\n",
       "    <tr>\n",
       "      <th>biolord</th>\n",
       "      <td>0.000016</td>\n",
       "      <td>0.000087</td>\n",
       "      <td>0.000088</td>\n",
       "      <td>0.000611</td>\n",
       "    </tr>\n",
       "    <tr>\n",
       "      <th>chemCPA</th>\n",
       "      <td>0.032197</td>\n",
       "      <td>0.026237</td>\n",
       "      <td>0.017140</td>\n",
       "      <td>0.006702</td>\n",
       "    </tr>\n",
       "    <tr>\n",
       "      <th>chemCPA-pre</th>\n",
       "      <td>0.000081</td>\n",
       "      <td>0.000208</td>\n",
       "      <td>0.000886</td>\n",
       "      <td>0.006211</td>\n",
       "    </tr>\n",
       "  </tbody>\n",
       "</table>\n",
       "</div>"
      ],
      "text/plain": [
       "             mean_all/0.001  mean_all/0.01  mean_all/0.1  mean_all/1.0\n",
       "type                                                                  \n",
       "baseline           0.000000       0.000000      0.000000      0.000000\n",
       "biolord            0.000016       0.000087      0.000088      0.000611\n",
       "chemCPA            0.032197       0.026237      0.017140      0.006702\n",
       "chemCPA-pre        0.000081       0.000208      0.000886      0.006211"
      ]
     },
     "execution_count": 11,
     "metadata": {},
     "output_type": "execute_result"
    }
   ],
   "source": [
    "df_full.groupby(by=[\"type\"]).var()"
   ]
  },
  {
   "cell_type": "markdown",
   "id": "9809117b-aa4f-4cd9-a932-b034638c191b",
   "metadata": {
    "tags": []
   },
   "source": [
    "## Subsampling analysis\n",
    "\n",
    "We train a biolord model using the procedure in `scripts/biolord/sciplex3` with subsampled anndata file, by taking:\n",
    "```{python}\n",
    "adatas = {}\n",
    "for frac in [0.2, 0.4, 0.6, 0.8]:\n",
    "    adatas[frac] = sc.pp.subsample(\n",
    "                        adata, \n",
    "                        fraction=fraction_to_keep, \n",
    "                        random_state=varying_arg[\"seed\"]\n",
    "                        )\n",
    "```\n",
    "\n"
   ]
  },
  {
   "cell_type": "code",
   "execution_count": 12,
   "id": "48bae358-8b9f-4bee-bc7f-392f2bc06bbd",
   "metadata": {
    "tags": []
   },
   "outputs": [],
   "source": [
    "df_ss = pd.read_csv(DATA_DIR_LCL + \"fraction_biolord.csv\", index_col=0)[['fraction_to_keep', 'mean_all_biolord/0.001', 'mean_all_biolord/0.01',\n",
    "       'mean_all_biolord/0.1', 'mean_all_biolord/1.0']]"
   ]
  },
  {
   "cell_type": "code",
   "execution_count": 13,
   "id": "414c01de-c78b-4c35-80c6-bf17d68006af",
   "metadata": {
    "tags": []
   },
   "outputs": [],
   "source": [
    "df_ss = pd.melt(df_ss, id_vars=[\"fraction_to_keep\"], value_vars=['mean_all_biolord/0.001', 'mean_all_biolord/0.01',\n",
    "       'mean_all_biolord/0.1', 'mean_all_biolord/1.0'])\n"
   ]
  },
  {
   "cell_type": "code",
   "execution_count": 14,
   "id": "b66ad630-1218-4d23-8e01-7a60a4a118b9",
   "metadata": {
    "tags": []
   },
   "outputs": [
    {
     "data": {
      "image/png": "[encoded data removed]",
      "text/plain": [
       "<Figure size 576x288 with 1 Axes>"
      ]
     },
     "metadata": {
      "needs_background": "light"
     },
     "output_type": "display_data"
    }
   ],
   "source": [
    "fig, axs = plt.subplots(1, 1, figsize=(8, 4))\n",
    "\n",
    "hue_order = [0.1, 0.2, 0.4, 0.6, 0.8, 1.]\n",
    "\n",
    "sns.barplot(\n",
    "    data=df_ss,\n",
    "    x=\"variable\",\n",
    "    y=\"value\",\n",
    "    hue=\"fraction_to_keep\",\n",
    "    hue_order=hue_order,\n",
    "    palette=sns.color_palette(\"coolwarm\", n_colors=len(hue_order)),\n",
    "    ax=axs,\n",
    ")\n",
    "\n",
    "x_labels = axs.get_xticklabels()\n",
    "dose_labels = [\"0.01\", \"0.1\", \"1\", \"10\"]\n",
    "[label.set_text(dose_labels[i]) for i, label in enumerate(x_labels)]\n",
    "axs.set_xticklabels(x_labels)\n",
    "axs.set_ylabel(\"$E[r^2]$\", fontsize=14)\n",
    "axs.set_xlabel(\"dosage in $\\mu$M\", fontsize=14)\n",
    "axs.set_axisbelow(True)\n",
    "axs.grid(\".\", color=\"darkgrey\", axis=\"y\")\n",
    "axs.set_ylim(0,1)\n",
    "\n",
    "axs.legend(\n",
    "    title=\"\",\n",
    "    fontsize=14,\n",
    "    title_fontsize=14,\n",
    "    loc=\"upper left\",\n",
    "    frameon=True,\n",
    "    bbox_to_anchor=(1, 1),\n",
    ")\n",
    "\n",
    "plt.tight_layout()\n",
    "plt.savefig(FIG_DIR_LCL + \"sciplex3_fractions.png\", format=\"png\", dpi=300)\n",
    "plt.show()"
   ]
  },
  {
   "cell_type": "markdown",
   "id": "ca7e2a17-a1f9-4893-9e84-958a26d46a1c",
   "metadata": {},
   "source": [
    "## Ablation study of reconstruction penalty"
   ]
  },
  {
   "cell_type": "code",
   "execution_count": 15,
   "id": "43e99ed0-b79f-4a33-a524-e70e31edc6f9",
   "metadata": {
    "tags": []
   },
   "outputs": [
    {
     "data": {
      "text/html": [
       "<div>\n",
       "<style scoped>\n",
       "    .dataframe tbody tr th:only-of-type {\n",
       "        vertical-align: middle;\n",
       "    }\n",
       "\n",
       "    .dataframe tbody tr th {\n",
       "        vertical-align: top;\n",
       "    }\n",
       "\n",
       "    .dataframe thead th {\n",
       "        text-align: right;\n",
       "    }\n",
       "</style>\n",
       "<table border=\"1\" class=\"dataframe\">\n",
       "  <thead>\n",
       "    <tr style=\"text-align: right;\">\n",
       "      <th></th>\n",
       "      <th>type</th>\n",
       "      <th>mean_all_biolord/0.001</th>\n",
       "      <th>mean_all_biolord/0.01</th>\n",
       "      <th>mean_all_biolord/0.1</th>\n",
       "      <th>mean_all_biolord/1.0</th>\n",
       "    </tr>\n",
       "    <tr>\n",
       "      <th>Name</th>\n",
       "      <th></th>\n",
       "      <th></th>\n",
       "      <th></th>\n",
       "      <th></th>\n",
       "      <th></th>\n",
       "    </tr>\n",
       "  </thead>\n",
       "  <tbody>\n",
       "    <tr>\n",
       "      <th>unique-sound-7</th>\n",
       "      <td>biolord $(\\tau=0)$</td>\n",
       "      <td>0.293483</td>\n",
       "      <td>0.284272</td>\n",
       "      <td>0.249824</td>\n",
       "      <td>0.196255</td>\n",
       "    </tr>\n",
       "    <tr>\n",
       "      <th>kind-cherry-7</th>\n",
       "      <td>biolord $(\\tau=0)$</td>\n",
       "      <td>0.434744</td>\n",
       "      <td>0.411050</td>\n",
       "      <td>0.340945</td>\n",
       "      <td>0.245753</td>\n",
       "    </tr>\n",
       "    <tr>\n",
       "      <th>electric-resonance-9</th>\n",
       "      <td>biolord $(\\tau=0)$</td>\n",
       "      <td>0.432118</td>\n",
       "      <td>0.419224</td>\n",
       "      <td>0.368575</td>\n",
       "      <td>0.293350</td>\n",
       "    </tr>\n",
       "    <tr>\n",
       "      <th>elated-music-9</th>\n",
       "      <td>biolord $(\\tau=0)$</td>\n",
       "      <td>0.431536</td>\n",
       "      <td>0.406984</td>\n",
       "      <td>0.334667</td>\n",
       "      <td>0.237150</td>\n",
       "    </tr>\n",
       "    <tr>\n",
       "      <th>fearless-fire-5</th>\n",
       "      <td>biolord $(\\tau=0)$</td>\n",
       "      <td>0.443250</td>\n",
       "      <td>0.424882</td>\n",
       "      <td>0.360646</td>\n",
       "      <td>0.264802</td>\n",
       "    </tr>\n",
       "  </tbody>\n",
       "</table>\n",
       "</div>"
      ],
      "text/plain": [
       "                                    type  mean_all_biolord/0.001  \\\n",
       "Name                                                               \n",
       "unique-sound-7        biolord $(\\tau=0)$                0.293483   \n",
       "kind-cherry-7         biolord $(\\tau=0)$                0.434744   \n",
       "electric-resonance-9  biolord $(\\tau=0)$                0.432118   \n",
       "elated-music-9        biolord $(\\tau=0)$                0.431536   \n",
       "fearless-fire-5       biolord $(\\tau=0)$                0.443250   \n",
       "\n",
       "                      mean_all_biolord/0.01  mean_all_biolord/0.1  \\\n",
       "Name                                                                \n",
       "unique-sound-7                     0.284272              0.249824   \n",
       "kind-cherry-7                      0.411050              0.340945   \n",
       "electric-resonance-9               0.419224              0.368575   \n",
       "elated-music-9                     0.406984              0.334667   \n",
       "fearless-fire-5                    0.424882              0.360646   \n",
       "\n",
       "                      mean_all_biolord/1.0  \n",
       "Name                                        \n",
       "unique-sound-7                    0.196255  \n",
       "kind-cherry-7                     0.245753  \n",
       "electric-resonance-9              0.293350  \n",
       "elated-music-9                    0.237150  \n",
       "fearless-fire-5                   0.264802  "
      ]
     },
     "execution_count": 15,
     "metadata": {},
     "output_type": "execute_result"
    }
   ],
   "source": [
    "df_rs0 = pd.read_csv(DATA_DIR_LCL + \"reconstruct_penalty_0.csv\", index_col=0)\n",
    "df_rs0[\"type\"] = \"biolord \"+ r\"$(\\tau=0)$\"\n",
    "df_optimal = pd.read_csv(DATA_DIR_LCL + \"seed_check_biolord.csv\", index_col=0) \n",
    "df_optimal[\"type\"] = \"biolord\"\n",
    "\n",
    "\n",
    "df_full = pd.concat([df_rs0, df_optimal])[['type', 'mean_all_biolord/0.001', 'mean_all_biolord/0.01',\n",
    "       'mean_all_biolord/0.1', 'mean_all_biolord/1.0']]\n",
    "df_full.head()"
   ]
  },
  {
   "cell_type": "code",
   "execution_count": 16,
   "id": "627616fd-432a-4aae-9040-c4d0ca91cf23",
   "metadata": {
    "tags": []
   },
   "outputs": [],
   "source": [
    "df_fmelt = pd.melt(df_full, id_vars=[\"type\"], value_vars=['mean_all_biolord/0.001', 'mean_all_biolord/0.01',\n",
    "       'mean_all_biolord/0.1', 'mean_all_biolord/1.0'])"
   ]
  },
  {
   "cell_type": "code",
   "execution_count": 17,
   "id": "6f5f1ac2-9e12-4f39-ad2f-e43cd74379d3",
   "metadata": {},
   "outputs": [
    {
     "data": {
      "text/html": [
       "<div>\n",
       "<style scoped>\n",
       "    .dataframe tbody tr th:only-of-type {\n",
       "        vertical-align: middle;\n",
       "    }\n",
       "\n",
       "    .dataframe tbody tr th {\n",
       "        vertical-align: top;\n",
       "    }\n",
       "\n",
       "    .dataframe thead th {\n",
       "        text-align: right;\n",
       "    }\n",
       "</style>\n",
       "<table border=\"1\" class=\"dataframe\">\n",
       "  <thead>\n",
       "    <tr style=\"text-align: right;\">\n",
       "      <th></th>\n",
       "      <th>mean_all_biolord/0.001</th>\n",
       "      <th>mean_all_biolord/0.01</th>\n",
       "      <th>mean_all_biolord/0.1</th>\n",
       "      <th>mean_all_biolord/1.0</th>\n",
       "    </tr>\n",
       "    <tr>\n",
       "      <th>type</th>\n",
       "      <th></th>\n",
       "      <th></th>\n",
       "      <th></th>\n",
       "      <th></th>\n",
       "    </tr>\n",
       "  </thead>\n",
       "  <tbody>\n",
       "    <tr>\n",
       "      <th>biolord</th>\n",
       "      <td>0.881238</td>\n",
       "      <td>0.808281</td>\n",
       "      <td>0.725169</td>\n",
       "      <td>0.739689</td>\n",
       "    </tr>\n",
       "    <tr>\n",
       "      <th>biolord $(\\tau=0)$</th>\n",
       "      <td>0.416917</td>\n",
       "      <td>0.398032</td>\n",
       "      <td>0.337236</td>\n",
       "      <td>0.251646</td>\n",
       "    </tr>\n",
       "  </tbody>\n",
       "</table>\n",
       "</div>"
      ],
      "text/plain": [
       "                    mean_all_biolord/0.001  mean_all_biolord/0.01  \\\n",
       "type                                                                \n",
       "biolord                           0.881238               0.808281   \n",
       "biolord $(\\tau=0)$                0.416917               0.398032   \n",
       "\n",
       "                    mean_all_biolord/0.1  mean_all_biolord/1.0  \n",
       "type                                                            \n",
       "biolord                         0.725169              0.739689  \n",
       "biolord $(\\tau=0)$              0.337236              0.251646  "
      ]
     },
     "execution_count": 17,
     "metadata": {},
     "output_type": "execute_result"
    }
   ],
   "source": [
    "df_full.groupby(by=[\"type\"]).mean()"
   ]
  },
  {
   "cell_type": "code",
   "execution_count": 18,
   "id": "3a36ec9f-d8c0-48ad-84b9-7a4ca45ed514",
   "metadata": {},
   "outputs": [
    {
     "data": {
      "text/html": [
       "<div>\n",
       "<style scoped>\n",
       "    .dataframe tbody tr th:only-of-type {\n",
       "        vertical-align: middle;\n",
       "    }\n",
       "\n",
       "    .dataframe tbody tr th {\n",
       "        vertical-align: top;\n",
       "    }\n",
       "\n",
       "    .dataframe thead th {\n",
       "        text-align: right;\n",
       "    }\n",
       "</style>\n",
       "<table border=\"1\" class=\"dataframe\">\n",
       "  <thead>\n",
       "    <tr style=\"text-align: right;\">\n",
       "      <th></th>\n",
       "      <th>mean_all_biolord/0.001</th>\n",
       "      <th>mean_all_biolord/0.01</th>\n",
       "      <th>mean_all_biolord/0.1</th>\n",
       "      <th>mean_all_biolord/1.0</th>\n",
       "    </tr>\n",
       "    <tr>\n",
       "      <th>type</th>\n",
       "      <th></th>\n",
       "      <th></th>\n",
       "      <th></th>\n",
       "      <th></th>\n",
       "    </tr>\n",
       "  </thead>\n",
       "  <tbody>\n",
       "    <tr>\n",
       "      <th>biolord</th>\n",
       "      <td>0.000016</td>\n",
       "      <td>0.000087</td>\n",
       "      <td>0.000088</td>\n",
       "      <td>0.000611</td>\n",
       "    </tr>\n",
       "    <tr>\n",
       "      <th>biolord $(\\tau=0)$</th>\n",
       "      <td>0.002069</td>\n",
       "      <td>0.001727</td>\n",
       "      <td>0.001092</td>\n",
       "      <td>0.000869</td>\n",
       "    </tr>\n",
       "  </tbody>\n",
       "</table>\n",
       "</div>"
      ],
      "text/plain": [
       "                    mean_all_biolord/0.001  mean_all_biolord/0.01  \\\n",
       "type                                                                \n",
       "biolord                           0.000016               0.000087   \n",
       "biolord $(\\tau=0)$                0.002069               0.001727   \n",
       "\n",
       "                    mean_all_biolord/0.1  mean_all_biolord/1.0  \n",
       "type                                                            \n",
       "biolord                         0.000088              0.000611  \n",
       "biolord $(\\tau=0)$              0.001092              0.000869  "
      ]
     },
     "execution_count": 18,
     "metadata": {},
     "output_type": "execute_result"
    }
   ],
   "source": [
    "df_full.groupby(by=[\"type\"]).var()"
   ]
  },
  {
   "cell_type": "markdown",
   "id": "bb684858-ecf8-42d8-b595-fefdf3036edd",
   "metadata": {
    "tags": []
   },
   "source": [
    "## Embedding uncertainty"
   ]
  },
  {
   "cell_type": "code",
   "execution_count": 19,
   "id": "96bade5f-d213-4b77-8398-53643cc96889",
   "metadata": {
    "tags": []
   },
   "outputs": [],
   "source": [
    "adata = sc.read(\n",
    "    DATA_DIR_LCL + \"sciplex3_biolord.h5ad\",\n",
    "    backup_url=\"https://figshare.com/ndownloader/files/39324305\",\n",
    ")"
   ]
  },
  {
   "cell_type": "code",
   "execution_count": 20,
   "id": "377d4a5c",
   "metadata": {
    "tags": []
   },
   "outputs": [
    {
     "name": "stdout",
     "output_type": "stream",
     "text": [
      "\u001b[34mINFO    \u001b[0m Generating sequential column names                                                                        \n"
     ]
    }
   ],
   "source": [
    "biolord.Biolord.setup_anndata(\n",
    "    adata,\n",
    "    ordered_attributes_keys=[\"rdkit2d_dose\"],\n",
    "    categorical_attributes_keys=[\"cell_type\"],\n",
    "    retrieval_attribute_key=None,\n",
    ")"
   ]
  },
  {
   "cell_type": "code",
   "execution_count": 21,
   "id": "286f36f7-5879-4644-923d-d5f06eecb9f0",
   "metadata": {},
   "outputs": [
    {
     "name": "stdout",
     "output_type": "stream",
     "text": [
      "\u001b[34mINFO    \u001b[0m File                                                                                                      \n",
      "         \u001b[35m/cs/labs/mornitzan/zoe.piran/research/projects/biolord_data/output/perturbations-celltype/sciplex3_model_n\u001b[0m\n",
      "         \u001b[35mew2/\u001b[0m\u001b[95mmodel.pt\u001b[0m already downloaded                                                                           \n"
     ]
    },
    {
     "name": "stderr",
     "output_type": "stream",
     "text": [
      "[rank: 0] Global seed set to 8\n"
     ]
    }
   ],
   "source": [
    "dir_path=DATA_DIR_LCL + \"sciplex3_model/\"\n",
    "model = biolord.Biolord.load(\n",
    "    dir_path =dir_path,\n",
    "    adata = adata\n",
    ")"
   ]
  },
  {
   "cell_type": "code",
   "execution_count": 22,
   "id": "14c30ce7-73c6-4861-8527-304758b4b4af",
   "metadata": {
    "tags": []
   },
   "outputs": [],
   "source": [
    "adata_high = adata[adata.obs[\"dose\"].isin([10000])].copy()"
   ]
  },
  {
   "cell_type": "code",
   "execution_count": 23,
   "id": "549e2ec4-99f5-42c7-8eeb-6e945f7ef4a6",
   "metadata": {
    "tags": []
   },
   "outputs": [],
   "source": [
    "rdkit2d_vals_high = []\n",
    "pathways2 = []\n",
    "pathways1 = []\n",
    "drugs = []\n",
    "\n",
    "for drug in adata_high.obs[\"drug_dose_name\"].cat.categories:\n",
    "    rdkit2d_vals_high.append(\n",
    "        list(\n",
    "            adata_high[adata_high.obs[\"drug_dose_name\"].isin([drug])].obsm[\n",
    "                \"rdkit2d_dose\"\n",
    "            ][0, :]\n",
    "        )\n",
    "    )\n",
    "    pathways2.append(\n",
    "        adata_high[adata_high.obs[\"drug_dose_name\"].isin([drug])]\n",
    "        .obs[\"pathway_level_2\"]\n",
    "        .cat.categories[0]\n",
    "    )\n",
    "    pathways1.append(\n",
    "        adata_high[adata_high.obs[\"drug_dose_name\"].isin([drug])]\n",
    "        .obs[\"pathway_level_1\"]\n",
    "        .cat.categories[0]\n",
    "    )\n",
    "    drugs.append(\n",
    "        adata_high[adata_high.obs[\"drug_dose_name\"].isin([drug])]\n",
    "        .obs[\"product_name\"]\n",
    "        .cat.categories[0]\n",
    "    )\n",
    "\n",
    "rdkit2d_vals_high = np.asarray(rdkit2d_vals_high)\n",
    "pathways1_groups = pd.Series(pathways1)\n",
    "pathways1_groups[~pd.Series(pathways1).isin(groups)] = \"NA\"\n",
    "pathways2_groups = pd.Series(pathways2)\n",
    "pathways2_groups[~pd.Series(pathways2).isin([\"Histone deacetylation\"])] = \"NA\"\n",
    "pathways1 = pd.Series(pathways1)\n",
    "pathways1_groups[pathways1_groups == \"Epigenetic regulation\"] = pathways2_groups[\n",
    "    pathways1_groups == \"Epigenetic regulation\"\n",
    "]\n",
    "\n",
    "drugs_ood = pd.Series(drugs)\n",
    "drugs_ood[~pd.Series(drugs).isin(ood_drugs)] = \"Observed\"\n",
    "drugs_ood[pd.Series(drugs).isin(ood_drugs)] = \"Unseen\""
   ]
  },
  {
   "cell_type": "code",
   "execution_count": 24,
   "id": "dd3f1280-0b2b-44ea-8c02-ee3117055be9",
   "metadata": {
    "tags": []
   },
   "outputs": [],
   "source": [
    "# Get embedding\n",
    "transf_embeddings_latent = model.get_ordered_attribute_embedding(\n",
    "    attribute_key=\"rdkit2d_dose\", vals=np.asarray(rdkit2d_vals_high)\n",
    ")"
   ]
  },
  {
   "cell_type": "code",
   "execution_count": 25,
   "id": "337c03a7-9064-4f00-9614-873a1b2e9096",
   "metadata": {},
   "outputs": [],
   "source": [
    "# biolord\n",
    "adata_emb = anndata.AnnData(X=transf_embeddings_latent, dtype=transf_embeddings_latent.dtype)\n",
    "adata_emb.obs_names = drugs\n",
    "adata_emb.obs[\"pathways\"] = pathways1_groups.values"
   ]
  },
  {
   "cell_type": "code",
   "execution_count": 26,
   "id": "c9e109ba-7cc8-4e9d-b12d-faec58d5fa53",
   "metadata": {
    "tags": []
   },
   "outputs": [
    {
     "name": "stdout",
     "output_type": "stream",
     "text": [
      "WARNING: You’re trying to run this on 256 dimensions of `.X`, if you really want this, set `use_rep='X'`.\n",
      "         Falling back to preprocessing with `sc.pp.pca` and default params.\n"
     ]
    },
    {
     "name": "stderr",
     "output_type": "stream",
     "text": [
      "/cs/labs/mornitzan/zoe.piran/venvjax/lib/python3.9/site-packages/umap/distances.py:1063: NumbaDeprecationWarning: \u001b[1mThe 'nopython' keyword argument was not supplied to the 'numba.jit' decorator. The implicit default value for this argument is currently False, but it will be changed to True in Numba 0.59.0. See https://numba.readthedocs.io/en/stable/reference/deprecation.html#deprecation-of-object-mode-fall-back-behaviour-when-using-jit for details.\u001b[0m\n",
      "  @numba.jit()\n",
      "/cs/labs/mornitzan/zoe.piran/venvjax/lib/python3.9/site-packages/umap/distances.py:1071: NumbaDeprecationWarning: \u001b[1mThe 'nopython' keyword argument was not supplied to the 'numba.jit' decorator. The implicit default value for this argument is currently False, but it will be changed to True in Numba 0.59.0. See https://numba.readthedocs.io/en/stable/reference/deprecation.html#deprecation-of-object-mode-fall-back-behaviour-when-using-jit for details.\u001b[0m\n",
      "  @numba.jit()\n",
      "/cs/labs/mornitzan/zoe.piran/venvjax/lib/python3.9/site-packages/umap/distances.py:1086: NumbaDeprecationWarning: \u001b[1mThe 'nopython' keyword argument was not supplied to the 'numba.jit' decorator. The implicit default value for this argument is currently False, but it will be changed to True in Numba 0.59.0. See https://numba.readthedocs.io/en/stable/reference/deprecation.html#deprecation-of-object-mode-fall-back-behaviour-when-using-jit for details.\u001b[0m\n",
      "  @numba.jit()\n",
      "/cs/labs/mornitzan/zoe.piran/venvjax/lib/python3.9/site-packages/umap/umap_.py:660: NumbaDeprecationWarning: \u001b[1mThe 'nopython' keyword argument was not supplied to the 'numba.jit' decorator. The implicit default value for this argument is currently False, but it will be changed to True in Numba 0.59.0. See https://numba.readthedocs.io/en/stable/reference/deprecation.html#deprecation-of-object-mode-fall-back-behaviour-when-using-jit for details.\u001b[0m\n",
      "  @numba.jit()\n"
     ]
    }
   ],
   "source": [
    "biolord.ul.compute_uncertainty(adata_emb, \"pathways\")\n",
    "df_unc = pd.DataFrame(adata_emb.obs[\"uncertainty\"].copy())"
   ]
  },
  {
   "cell_type": "code",
   "execution_count": 27,
   "id": "0bdadd68-e245-49a6-b64a-0557f15c0b51",
   "metadata": {
    "tags": []
   },
   "outputs": [],
   "source": [
    "# rdkit\n",
    "adata_emb_rd = anndata.AnnData(X=rdkit2d_vals_high[:, :-1], dtype=rdkit2d_vals_high[:, :-1].dtype)\n",
    "adata_emb_rd.obs_names = drugs\n",
    "adata_emb_rd.obs[\"pathways\"] = pathways1_groups.values"
   ]
  },
  {
   "cell_type": "code",
   "execution_count": 28,
   "id": "beaf75e6-9342-420a-b314-d923850dbc24",
   "metadata": {
    "tags": []
   },
   "outputs": [
    {
     "name": "stdout",
     "output_type": "stream",
     "text": [
      "WARNING: You’re trying to run this on 173 dimensions of `.X`, if you really want this, set `use_rep='X'`.\n",
      "         Falling back to preprocessing with `sc.pp.pca` and default params.\n"
     ]
    }
   ],
   "source": [
    "biolord.ul.compute_uncertainty(adata_emb_rd, \"pathways\")\n",
    "df_unc[\"RDKit\"] = adata_emb_rd.obs[\"uncertainty\"].copy().values"
   ]
  },
  {
   "cell_type": "code",
   "execution_count": 29,
   "id": "2352e19b-e937-47ab-a87b-7f3c6b8143f2",
   "metadata": {},
   "outputs": [],
   "source": [
    "df_unc = df_unc.rename(columns = {\"uncertainty\": \"biolord\"})"
   ]
  },
  {
   "cell_type": "code",
   "execution_count": 30,
   "id": "f1a0ba75-51f3-4be8-b888-7370ed9a3694",
   "metadata": {},
   "outputs": [],
   "source": [
    "df_melt = pd.melt(df_unc.reset_index(),  id_vars=[\"index\"], value_vars=df_unc.columns)\n",
    "df_melt = df_melt.rename(columns= {\"variable\": \"method\", \"value\": \"Uncertainty\"})"
   ]
  },
  {
   "cell_type": "code",
   "execution_count": 31,
   "id": "c9224710-e3fe-4412-af3b-5b8f3aa2709e",
   "metadata": {
    "tags": []
   },
   "outputs": [
    {
     "data": {
      "image/png": "[encoded data removed]",
      "text/plain": [
       "<Figure size 432x288 with 1 Axes>"
      ]
     },
     "metadata": {
      "needs_background": "light"
     },
     "output_type": "display_data"
    }
   ],
   "source": [
    "fig, axs = plt.subplots(1, 1, figsize=(6, 4))\n",
    "\n",
    "kde = sns.kdeplot(data=df_melt, x=\"Uncertainty\", hue=\"method\", palette=[\"#4491a7\", \"#a75a44\"], ax=axs, fill=True, legend=True)\n",
    "ll = kde.get_legend()\n",
    "ll.set_label(\"\")\n",
    "\n",
    "plt.tight_layout()\n",
    "\n",
    "\n",
    "plt.savefig(FIG_DIR_LCL + \"hist_uncertainty.png\", format=\"png\", dpi=300)\n",
    "plt.show()"
   ]
  },
  {
   "cell_type": "code",
   "execution_count": 32,
   "id": "495cd40a-88a5-4cfc-9697-cd992f8bfd7e",
   "metadata": {},
   "outputs": [
    {
     "data": {
      "text/html": [
       "<div>\n",
       "<style scoped>\n",
       "    .dataframe tbody tr th:only-of-type {\n",
       "        vertical-align: middle;\n",
       "    }\n",
       "\n",
       "    .dataframe tbody tr th {\n",
       "        vertical-align: top;\n",
       "    }\n",
       "\n",
       "    .dataframe thead th {\n",
       "        text-align: right;\n",
       "    }\n",
       "</style>\n",
       "<table border=\"1\" class=\"dataframe\">\n",
       "  <thead>\n",
       "    <tr style=\"text-align: right;\">\n",
       "      <th></th>\n",
       "      <th>Uncertainty</th>\n",
       "    </tr>\n",
       "    <tr>\n",
       "      <th>method</th>\n",
       "      <th></th>\n",
       "    </tr>\n",
       "  </thead>\n",
       "  <tbody>\n",
       "    <tr>\n",
       "      <th>RDKit</th>\n",
       "      <td>0.322625</td>\n",
       "    </tr>\n",
       "    <tr>\n",
       "      <th>biolord</th>\n",
       "      <td>0.194145</td>\n",
       "    </tr>\n",
       "  </tbody>\n",
       "</table>\n",
       "</div>"
      ],
      "text/plain": [
       "         Uncertainty\n",
       "method              \n",
       "RDKit       0.322625\n",
       "biolord     0.194145"
      ]
     },
     "execution_count": 32,
     "metadata": {},
     "output_type": "execute_result"
    }
   ],
   "source": [
    "df_melt.groupby(\"method\").mean(\"Uncertainty\")"
   ]
  },
  {
   "cell_type": "code",
   "execution_count": 33,
   "id": "f878d301-8477-4895-bb57-7926399931c1",
   "metadata": {},
   "outputs": [
    {
     "data": {
      "text/plain": [
       "method\n",
       "RDKit      0.007949\n",
       "biolord    0.004663\n",
       "Name: Uncertainty, dtype: float64"
      ]
     },
     "execution_count": 33,
     "metadata": {},
     "output_type": "execute_result"
    }
   ],
   "source": [
    "df_melt.groupby(\"method\").agg(\"Uncertainty\").var()"
   ]
  },
  {
   "cell_type": "code",
   "execution_count": null,
   "id": "5ee79db6-3f63-4ba2-b4c4-43ba60bd2aeb",
   "metadata": {},
   "outputs": [],
   "source": []
  }
 ],
 "metadata": {
  "kernelspec": {
   "display_name": "venvjax",
   "language": "python",
   "name": "venvjax"
  },
  "language_info": {
   "codemirror_mode": {
    "name": "ipython",
    "version": 3
   },
   "file_extension": ".py",
   "mimetype": "text/x-python",
   "name": "python",
   "nbconvert_exporter": "python",
   "pygments_lexer": "ipython3",
   "version": "3.9.2"
  }
 },
 "nbformat": 4,
 "nbformat_minor": 5
}
