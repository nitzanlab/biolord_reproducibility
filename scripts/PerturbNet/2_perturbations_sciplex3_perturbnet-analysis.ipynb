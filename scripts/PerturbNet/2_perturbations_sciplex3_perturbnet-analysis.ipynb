{
 "cells": [
  {
   "cell_type": "markdown",
   "id": "babe1ad6-20e2-46f3-99a1-dfcae4cc43e3",
   "metadata": {},
   "source": [
    "# Evaluate a `PertrubNet` model with `Sci-Plex 3` data \n",
    "\n",
    "We use the following pre-processed files:\n",
    "1. anndata file obtained in [1_perturbations_sciplex3_perturbnet-preprocess.ipynb](https://github.com/nitzanlab/biolord_reproducibility/blob/main/scripts/PerturbNet/1_perturbations_sciplex3_perturbnet-preprocess.ipynb)\n",
    "2. trained scVI model using [perturbnet_scvi.py](https://github.com/nitzanlab/biolord_reproducibility/blob/main/scripts/PerturbNet/perturbnet_scvi.py),\n",
    "3. trained cINN model obtained by [perturbnet_cinn.py](https://github.com/nitzanlab/biolord_reproducibility/blob/main/scripts/PerturbNet/perturbnet_cinn.py)\n",
    "\n",
    "All PerturbNet training and evaluation follow guidelines provided in the package impplementation, [PerturbNet](https://github.com/welch-lab/PerturbNet). \n",
    "\n",
    "[[1] Srivatsan, S. R., McFaline-Figueroa, J. L., Ramani, V., Saunders, L., Cao, J., Packer, J., ... & Trapnell, C. (2020). Massively multiplex chemical transcriptomics at single-cell resolution. Science, 367(6473), 45-51.](https://www.science.org/doi/10.1126/science.aax6234)\n",
    "\n",
    "[[2] Yu, H. and Welch, J.D., 2022. PerturbNet predicts single-cell responses to unseen chemical and genetic perturbations. bioRxiv, pp.2022-07.](https://doi.org/10.1101/2022.07.20.500854)\n"
   ]
  },
  {
   "cell_type": "code",
   "execution_count": 1,
   "id": "2a9226a2-36d7-40d3-a873-1e1e0d732785",
   "metadata": {
    "tags": []
   },
   "outputs": [
    {
     "name": "stderr",
     "output_type": "stream",
     "text": [
      "/cs/labs/mornitzan/zoe.piran/venvjax/lib/python3.9/site-packages/scvi/_settings.py:63: UserWarning: Since v1.0.0, scvi-tools no longer uses a random seed by default. Run `scvi.settings.seed = 0` to reproduce results from previous versions.\n",
      "  self.seed = seed\n",
      "/cs/labs/mornitzan/zoe.piran/venvjax/lib/python3.9/site-packages/scvi/_settings.py:70: UserWarning: Setting `dl_pin_memory_gpu_training` is deprecated in v1.0 and will be removed in v1.1. Please pass in `pin_memory` to the data loaders instead.\n",
      "  self.dl_pin_memory_gpu_training = (\n"
     ]
    }
   ],
   "source": [
    "import sys\n",
    "import os\n",
    "\n",
    "import scanpy as sc\n",
    "import scvi\n",
    "import numpy as np\n",
    "from scipy import sparse\n",
    "\n",
    "from tqdm import tqdm"
   ]
  },
  {
   "cell_type": "code",
   "execution_count": 2,
   "id": "60477d2e-7d0c-4575-8b40-b29db616c4c3",
   "metadata": {},
   "outputs": [],
   "source": [
    "sys.path.insert(0, \"path_to_PerturbNet\")\n",
    "from pytorch_scvi.distributions import *\n",
    "from pytorch_scvi.scvi_generate_z import *\n",
    "\n",
    "from perturbnet.perturb.util import * \n",
    "from perturbnet.perturb.cinn.module.flow import * \n",
    "from perturbnet.perturb.chemicalvae.chemicalVAE import *\n",
    "from perturbnet.perturb.cinn.module.flow_generate import SCVIZ_CheckNet2Net"
   ]
  },
  {
   "cell_type": "code",
   "execution_count": 3,
   "id": "9e94b2d7-2948-492a-b99c-6a13bb5a262a",
   "metadata": {},
   "outputs": [],
   "source": [
    "sys.path.append(\"../../../\")\n",
    "sys.path.append(\"../../../utils/\")\n",
    "from paths import DATA_DIR, FIG_DIR"
   ]
  },
  {
   "cell_type": "markdown",
   "id": "07df7d3c-20be-41ed-a13c-168dc4661aa2",
   "metadata": {},
   "source": [
    "## Utility functions"
   ]
  },
  {
   "cell_type": "code",
   "execution_count": 4,
   "id": "e5fd201c-c406-49fb-ba73-3a1435cb57b9",
   "metadata": {},
   "outputs": [],
   "source": [
    "def bool2idx(x):\n",
    "    \"\"\"\n",
    "    Returns the indices of the True-valued entries in a boolean array `x`\n",
    "    \"\"\"\n",
    "    return np.where(x)[0]"
   ]
  },
  {
   "cell_type": "code",
   "execution_count": 5,
   "id": "f27dba7f-cf43-4c54-aec8-181f5bf6aca9",
   "metadata": {},
   "outputs": [],
   "source": [
    "def compute_prediction_normmodel_ctrl(\n",
    "    adata_ood,\n",
    "    adata,\n",
    "    dose_cell_onehot_ood,\n",
    "    scvi_model_cinn,\n",
    "    model_g,\n",
    "    std_model,\n",
    "    perturbnet_model,\n",
    "    device=\"cpu\",\n",
    "    verbose=False\n",
    "):\n",
    "    pert_categories_index_ood = pd.Index(adata_ood.obs[\"cov_drug_dose_name\"].values, dtype=\"category\")\n",
    "    \n",
    "    Zsample = scvi_model_cinn.get_latent_representation(adata=adata, give_mean=False)\n",
    "    Lsample = scvi_model_cinn.get_latent_library_size(adata=adata, give_mean=False)\n",
    "    \n",
    "    drug_r2 = {}\n",
    "    drug_r2_full = {}\n",
    "\n",
    "    normModel = NormalizedRevisionRSquare(largeCountData=adata.layers[\"counts\"].A)\n",
    "\n",
    "    for cell_drug_dose_comb, category_count in tqdm(\n",
    "        zip(*np.unique(pert_categories_index_ood.values, return_counts=True))\n",
    "    ):\n",
    "        # estimate metrics only for reasonably-sized drug/cell-type combos\n",
    "        if category_count <= 5:\n",
    "            continue\n",
    "        # doesn\"t make sense to evaluate DMSO (=control) as a perturbation\n",
    "        if (\n",
    "            \"dmso\" in cell_drug_dose_comb.lower()\n",
    "            or \"control\" in cell_drug_dose_comb.lower()\n",
    "        ):\n",
    "            continue\n",
    "\n",
    "\n",
    "        bool_category = pert_categories_index_ood.get_loc(cell_drug_dose_comb)\n",
    "        idx_all = bool2idx(bool_category)\n",
    "        idx = idx_all[0]\n",
    "\n",
    "        real_data = adata_ood[idx_all, :].layers[\"counts\"].A\n",
    "\n",
    "        # make predictions\n",
    "        cell_line = adata_ood[idx, :].obs[\"cell_type\"].values[0]\n",
    "        trt = adata_ood[idx, :].obs[\"treatment\"].values[0]\n",
    "        dose = adata_ood[idx, :].obs[\"dose\"].values[0]\n",
    "        idx_trt = data_trt[data_trt[\"treatment\"] == trt][\"Indices\"].values[0]\n",
    "        celldose_onehot = dose_cell_onehot_ood[idx]\n",
    "\n",
    "        # take ctrl cells from same cell line\n",
    "        idx_base = np.argwhere((adata.obs[\"cell_type\"] == cell_line) & (adata.obs[\"vehicle\"] == \"True\")).flatten()\n",
    "        adata_base = adata[idx_base].copy()\n",
    "        drug_r2_full[cell_drug_dose_comb] = {}\n",
    "        r2_m_arr = []\n",
    "        input_ctrl_latent_base =  Zsample[idx_base]\n",
    "        input_ctrl_library_base = np.log(Lsample[idx_base])\n",
    "        onehot_indice_trt_other = np.tile(\n",
    "                data_sciplex_onehot[idx_trt], \n",
    "                (input_ctrl_latent_base.shape[0], 1, 1)\n",
    "        )\n",
    "\n",
    "        _, _, _, embdata_torch_other = model_g(torch.tensor(onehot_indice_trt_other).float().to(device))\n",
    "        trt_onehot_otherTo = std_model.standardize_z(embdata_torch_other.cpu().detach().numpy())\n",
    "\n",
    "        celldose_onehot_other = np.tile(\n",
    "            celldose_onehot,\n",
    "            (len(idx_base), 1)\n",
    "        )\n",
    "        \n",
    "        trt_onehot_otherTo = np.concatenate((trt_onehot_otherTo, celldose_onehot_other), axis=1)\n",
    "            \n",
    "        recon_latent, recon_data = perturbnet_model.recon_data(\n",
    "                input_ctrl_latent_base, \n",
    "                trt_onehot_otherTo,\n",
    "                input_ctrl_library_base\n",
    "            )\n",
    "\n",
    "        r2_m, _, _ = normModel.calculate_r_square(real_data, recon_data)\n",
    "        drug_r2[cell_drug_dose_comb] = r2_m\n",
    "        \n",
    "    return drug_r2"
   ]
  },
  {
   "cell_type": "code",
   "execution_count": 6,
   "id": "f9aa2f34-56aa-49d2-8127-a37d645cb9e1",
   "metadata": {},
   "outputs": [],
   "source": [
    "def compute_prediction_normmodel(\n",
    "    adata_ood,\n",
    "    adata_ref,\n",
    "    adata,\n",
    "    dose_cell_onehot_ood,\n",
    "    scvi_model_cinn,\n",
    "    model_g,\n",
    "    std_model,\n",
    "    perturbnet_model,\n",
    "    device=\"cpu\",\n",
    "    verbose=False\n",
    "):\n",
    "    pert_categories_index_ood = pd.Index(adata_ood.obs[\"cov_drug_dose_name\"].values, dtype=\"category\")\n",
    "    \n",
    "    Zsample = scvi_model_cinn.get_latent_representation(adata=adata_ref, give_mean=False)\n",
    "    Lsample = scvi_model_cinn.get_latent_library_size(adata=adata_ref, give_mean=False)\n",
    "    \n",
    "    drug_r2 = {}\n",
    "    drug_r2_full = {}\n",
    "\n",
    "    normModel = NormalizedRevisionRSquare(largeCountData=adata.layers[\"counts\"].A)\n",
    "\n",
    "    for cell_drug_dose_comb, category_count in tqdm(\n",
    "        zip(*np.unique(pert_categories_index_ood.values, return_counts=True))\n",
    "    ):\n",
    "        # estimate metrics only for reasonably-sized drug/cell-type combos\n",
    "        if category_count <= 5:\n",
    "            continue\n",
    "        # doesn\"t make sense to evaluate DMSO (=control) as a perturbation\n",
    "        if (\n",
    "            \"dmso\" in cell_drug_dose_comb.lower()\n",
    "            or \"control\" in cell_drug_dose_comb.lower()\n",
    "        ):\n",
    "            continue\n",
    "\n",
    "\n",
    "        bool_category = pert_categories_index_ood.get_loc(cell_drug_dose_comb)\n",
    "        idx_all = bool2idx(bool_category)\n",
    "        idx = idx_all[0]\n",
    "\n",
    "        real_data = adata_ood[idx_all, :].layers[\"counts\"].A\n",
    "\n",
    "        # make predictions\n",
    "        cell_line = adata_ood[idx, :].obs[\"cell_type\"].values[0]\n",
    "        trt = adata_ood[idx, :].obs[\"treatment\"].values[0]\n",
    "        dose = adata_ood[idx, :].obs[\"dose\"].values[0]\n",
    "        idx_trt = data_trt[data_trt[\"treatment\"] == trt][\"Indices\"].values[0]\n",
    "        celldose_onehot = dose_cell_onehot_ood[idx]\n",
    "\n",
    "        adata_cmp = adata_ref[(adata_ref.obs[\"cell_type\"] == cell_line) & (adata_ref.obs[\"dose\"] == dose)]\n",
    "        drug_r2_full[cell_drug_dose_comb] = {}\n",
    "        r2_m_arr = []\n",
    "        for trt_base in adata_cmp.obs[\"treatment\"].cat.categories:\n",
    "            idx_trt_base = data_trt[data_trt[\"treatment\"] == trt_base][\"Indices\"].values[0]\n",
    "            idx_trt_type_base = np.where(adata_cmp.obs[\"treatment\"] == trt_base)[0]\n",
    "            \n",
    "            onehot_indice_trt_base = np.tile(\n",
    "                data_sciplex_onehot[idx_trt_base],\n",
    "                (len(idx_trt_type_base), 1, 1)\n",
    "            )\n",
    "            \n",
    "            _, _, _, embdata_torch_base = model_g(torch.tensor(onehot_indice_trt_base).float().to(device))\n",
    "            \n",
    "            input_trt_latent_base, trt_onehot_base = Zsample[idx_trt_type_base], std_model.standardize_z(\n",
    "                embdata_torch_base.cpu().detach().numpy()\n",
    "            )\n",
    "            celldose_onehot_base = np.tile(\n",
    "                celldose_onehot,\n",
    "                (len(idx_trt_type_base), 1)\n",
    "            )\n",
    "\t\t\t\n",
    "            trt_onehot_base = np.concatenate((trt_onehot_base, celldose_onehot_base), axis=1)\n",
    "            input_trt_library_base = np.log(Lsample[idx_trt_type_base])\n",
    "            \n",
    "            onehot_indice_trt_other = np.tile(\n",
    "                data_sciplex_onehot[idx_trt], \n",
    "                (input_trt_latent_base.shape[0], 1, 1)\n",
    "            )\n",
    "            \n",
    "            _, _, _, embdata_torch_other = model_g(torch.tensor(onehot_indice_trt_other).float().to(device))\n",
    "            trt_onehot_otherTo = std_model.standardize_z(embdata_torch_other.cpu().detach().numpy())\n",
    "\t\t\t\n",
    "            trt_onehot_otherTo = np.concatenate((trt_onehot_otherTo, celldose_onehot_base), axis=1)\n",
    "            \n",
    "            recon_latent, recon_data = perturbnet_model.trans_data(\n",
    "                input_trt_latent_base, \n",
    "                trt_onehot_base,\n",
    "                trt_onehot_otherTo,\n",
    "                input_trt_library_base\n",
    "            )\n",
    "        \n",
    "            r2_m, _, _ = normModel.calculate_r_square(real_data, recon_data)\n",
    "        \n",
    "            drug_r2_full[cell_drug_dose_comb][trt_base] = r2_m\n",
    "            r2_m_arr.append(r2_m)\n",
    "            \n",
    "        drug_r2[cell_drug_dose_comb] = np.mean(r2_m_arr)\n",
    "    return drug_r2, drug_r2_full"
   ]
  },
  {
   "cell_type": "code",
   "execution_count": 7,
   "id": "6d48056c-b641-4f23-ba25-295f8c84b3d9",
   "metadata": {},
   "outputs": [],
   "source": [
    "def create_df_max(res):\n",
    "    \n",
    "    df = pd.DataFrame.from_dict(res, orient=\"index\", columns=[\"r2\"])\n",
    "\n",
    "    df[\"r\"] = df[\"r2\"].apply(lambda x: max(x,0))\n",
    "    df[\"cell_line\"] = pd.Series(df.index.values).apply(lambda x: x.split(\"_\")[0]).values\n",
    "    df[\"drug\"] = pd.Series(df.index.values).apply(lambda x: x.split(\"_\")[1]).values\n",
    "    df[\"dose\"] = pd.Series(df.index.values).apply(lambda x: x.split(\"_\")[2]).values\n",
    "    df[\"dose\"] = df[\"dose\"].astype(float)\n",
    "\n",
    "    df[\"combination\"] = df.index.values\n",
    "    df = df.reset_index()\n",
    "    return df"
   ]
  },
  {
   "cell_type": "markdown",
   "id": "12909585-80d7-4951-9ed8-bee0b59f4f1d",
   "metadata": {},
   "source": [
    "## Set parameters"
   ]
  },
  {
   "cell_type": "code",
   "execution_count": 8,
   "id": "c28426a5-b1ed-49b6-ad59-fd695b8edbdd",
   "metadata": {},
   "outputs": [],
   "source": [
    "DATA_DIR_LCL = str(DATA_DIR) + \"/perturbations/sciplex3/\"\n",
    "\n",
    "## files\n",
    "path_chemvae_model = DATA_DIR_LCL + 'models/chemvae/model_params.pt'\n",
    "path_scvi_model = DATA_DIR_LCL + \"models/scvi\"\n",
    "\n",
    "path_sciplex_onehot = DATA_DIR_LCL + 'OnehotData_188.npy'\n",
    "path_chem_onehot = DATA_DIR_LCL + 'OnehotData_ZINC.npy'\n",
    "\n",
    "path_cinn_model_save = DATA_DIR_LCL + \"models/cinn_cov\""
   ]
  },
  {
   "cell_type": "code",
   "execution_count": 9,
   "id": "8b6a178f-2352-4ba1-bd1b-10c5162b7c92",
   "metadata": {
    "tags": []
   },
   "outputs": [],
   "source": [
    "adata_ref =  sc.read(\n",
    "    DATA_DIR_LCL + \"sciplex3_biolord.h5ad\",\n",
    "    backup_url=\"https://figshare.com/ndownloader/files/39324305\",\n",
    ")"
   ]
  },
  {
   "cell_type": "code",
   "execution_count": 10,
   "id": "6ce262ba-cfe9-4009-8e81-4001ad6f79a7",
   "metadata": {
    "tags": []
   },
   "outputs": [],
   "source": [
    "ref_obs = pd.Index([obs.split(\"-\")[0] for obs in adata_ref.obs_names])\n",
    "adata_ref.obs_names = ref_obs"
   ]
  },
  {
   "cell_type": "markdown",
   "id": "5d7ffeb0-c829-4fe3-86f1-efc9dce9c448",
   "metadata": {},
   "source": [
    "## Load data"
   ]
  },
  {
   "cell_type": "code",
   "execution_count": 11,
   "id": "cd5d383d-42b7-4e78-abc5-678b361c47e4",
   "metadata": {
    "tags": []
   },
   "outputs": [],
   "source": [
    "adata_orig = sc.read(os.path.join(DATA_DIR_LCL, 'sciPlex3_whole_filtered_NormBYHighGenes_processed.h5ad')) \n",
    "adata = adata_orig[adata_orig.obs_names.isin(ref_obs)].copy()\n",
    "adata.obs[\"split_ood\"] = adata_ref.obs.loc[adata.obs_names ,\"split_ood\"]\n",
    "adata.obs[\"cov_drug_dose_name\"] = adata_ref.obs.loc[adata.obs_names ,\"cov_drug_dose_name\"]\n"
   ]
  },
  {
   "cell_type": "code",
   "execution_count": 12,
   "id": "f79d28fa-78a0-454e-bc08-01b3e670b503",
   "metadata": {
    "tags": []
   },
   "outputs": [],
   "source": [
    "## remove 9 unseene drugs (using reference adata)\n",
    "input_ltpm_label = adata.obs.copy()\n",
    "kept_indices = list(np.where((input_ltpm_label[\"split_ood\"] != \"ood\") & (input_ltpm_label[\"treatment\"] != \"S0000\"))[0])\n"
   ]
  },
  {
   "cell_type": "code",
   "execution_count": 13,
   "id": "72df9269-96b0-486b-98f8-6dcc31102c37",
   "metadata": {
    "tags": []
   },
   "outputs": [],
   "source": [
    "adata_train = adata[kept_indices, :].copy()"
   ]
  },
  {
   "cell_type": "code",
   "execution_count": 14,
   "id": "7e454d39-6ec3-403c-8701-a9a4b991aae1",
   "metadata": {
    "tags": []
   },
   "outputs": [],
   "source": [
    "## onehot\n",
    "data_sciplex_onehot = np.load(path_sciplex_onehot)\n",
    "data_chem_onehot = np.load(path_chem_onehot)\n",
    "\n",
    "# remove\n",
    "input_ltpm_label1 = input_ltpm_label.iloc[kept_indices, :]\n",
    "input_ltpm_label1.index = list(range(input_ltpm_label1.shape[0]))\n",
    "\n",
    "## meta information\n",
    "perturb_with_onehot_overall = np.array(list(input_ltpm_label['treatment']))\n",
    "perturb_with_onehot_kept = perturb_with_onehot_overall[kept_indices]"
   ]
  },
  {
   "cell_type": "code",
   "execution_count": 15,
   "id": "51557ba1-f03e-4b6b-a128-e6a9480f40ab",
   "metadata": {},
   "outputs": [],
   "source": [
    "data_trt = pd.read_csv(DATA_DIR_LCL + 'emb_named_chemvae_canonize.csv')\n",
    "data_trt['Indices'] = list(range(data_trt.shape[0]))\n",
    "\n",
    "cell_embdata = input_ltpm_label1.loc[:, ['treatment']].merge(data_trt, how = 'left', on = 'treatment')\n",
    "indices_onehot = list(cell_embdata['Indices'])\n",
    "\n",
    "data_sciplexKept_onehot = data_sciplex_onehot[indices_onehot]"
   ]
  },
  {
   "cell_type": "markdown",
   "id": "82b6cb5d-eb00-46e3-87fd-f7875aaa97ae",
   "metadata": {},
   "source": [
    "## Load models"
   ]
  },
  {
   "cell_type": "code",
   "execution_count": 16,
   "id": "d497586d-7922-4f8c-9fe2-485e98defb1a",
   "metadata": {},
   "outputs": [
    {
     "name": "stdout",
     "output_type": "stream",
     "text": [
      "\u001B[34mINFO    \u001B[0m File                                                                                                      \n",
      "         \u001B[35m/cs/labs/mornitzan/zoe.piran/research/projects/biolord_data/data/perturbation-celltype/models/scvi/\u001B[0m\u001B[95mmodel.p\u001B[0m\n",
      "         \u001B[95mt\u001B[0m already downloaded                                                                                      \n"
     ]
    },
    {
     "name": "stderr",
     "output_type": "stream",
     "text": [
      "/cs/labs/mornitzan/zoe.piran/venvjax/lib/python3.9/site-packages/scvi/model/base/_base_model.py:669: UserWarning: `use_gpu` is deprecated in v1.0 and will be removed in v1.1. Please use `accelerator` and `devices` instead.\n",
      "  _, _, device = parse_device_args(\n"
     ]
    }
   ],
   "source": [
    "scvi.model.SCVI.setup_anndata(adata_train, layer = \"counts\")\n",
    "scvi_model_cinn = scvi.model.SCVI.load(path_scvi_model, adata_train, use_gpu=False)\n",
    "scvi_model_de = scvi_predictive_z(scvi_model_cinn)"
   ]
  },
  {
   "cell_type": "code",
   "execution_count": 17,
   "id": "83970139-aee9-4aa3-b156-40729c88c308",
   "metadata": {},
   "outputs": [
    {
     "data": {
      "text/plain": [
       "ChemicalVAE(\n",
       "  (conv_1): Conv1d(120, 9, kernel_size=(9,), stride=(1,))\n",
       "  (conv_2): Conv1d(9, 9, kernel_size=(9,), stride=(1,))\n",
       "  (conv_3): Conv1d(9, 10, kernel_size=(11,), stride=(1,))\n",
       "  (bnConv1): BatchNorm1d(9, eps=1e-05, momentum=0.1, affine=True, track_running_stats=True)\n",
       "  (bnConv2): BatchNorm1d(9, eps=1e-05, momentum=0.1, affine=True, track_running_stats=True)\n",
       "  (bnConv3): BatchNorm1d(10, eps=1e-05, momentum=0.1, affine=True, track_running_stats=True)\n",
       "  (linear_0): Linear(in_features=90, out_features=196, bias=True)\n",
       "  (linear_1): Linear(in_features=196, out_features=196, bias=True)\n",
       "  (linear_2): Linear(in_features=196, out_features=196, bias=True)\n",
       "  (dropout1): Dropout(p=0.08283292970479479, inplace=False)\n",
       "  (bn1): BatchNorm1d(196, eps=1e-05, momentum=0.1, affine=True, track_running_stats=True)\n",
       "  (dropout2): Dropout(p=0.08283292970479479, inplace=False)\n",
       "  (bn2): BatchNorm1d(196, eps=1e-05, momentum=0.1, affine=True, track_running_stats=True)\n",
       "  (linear_3): Linear(in_features=196, out_features=196, bias=True)\n",
       "  (gru): GRU(196, 488, num_layers=3, batch_first=True)\n",
       "  (linear_4): Linear(in_features=488, out_features=35, bias=True)\n",
       "  (relu): ReLU()\n",
       "  (softmax): Softmax(dim=None)\n",
       "  (tanh): Tanh()\n",
       ")"
      ]
     },
     "execution_count": 17,
     "metadata": {},
     "output_type": "execute_result"
    }
   ],
   "source": [
    "device = 'cuda' if torch.cuda.is_available() else 'cpu'\n",
    "\n",
    "## ChemicalVAE\n",
    "model_chemvae = ChemicalVAE(n_char = data_chem_onehot.shape[2], max_len = data_chem_onehot.shape[1]).to(device)\n",
    "model_chemvae.load_state_dict(torch.load(path_chemvae_model, map_location = device))\n",
    "model_chemvae.eval()"
   ]
  },
  {
   "cell_type": "markdown",
   "id": "4bf8b383-dee6-44af-9de6-5a009cef3f39",
   "metadata": {},
   "source": [
    "### i) estimate latent means and stds"
   ]
  },
  {
   "cell_type": "code",
   "execution_count": 18,
   "id": "23b00d0a-00da-492e-8dd9-beba34147972",
   "metadata": {
    "tags": []
   },
   "outputs": [
    {
     "name": "stdout",
     "output_type": "stream",
     "text": [
      "Note: Conditioning network uses batch-normalization. Make sure to train with a sufficiently large batch size\n"
     ]
    },
    {
     "data": {
      "text/plain": [
       "Net2NetFlow_scVIChemStdStatesFlow(\n",
       "  (flow): ConditionalFlatCouplingFlow(\n",
       "    (embedder): BasicFullyConnectedNet(\n",
       "      (main): Sequential(\n",
       "        (0): Linear(in_features=204, out_features=256, bias=True)\n",
       "        (1): BatchNorm1d(256, eps=1e-05, momentum=0.1, affine=True, track_running_stats=True)\n",
       "        (2): LeakyReLU(negative_slope=0.01)\n",
       "        (3): Linear(in_features=256, out_features=256, bias=True)\n",
       "        (4): BatchNorm1d(256, eps=1e-05, momentum=0.1, affine=True, track_running_stats=True)\n",
       "        (5): LeakyReLU(negative_slope=0.01)\n",
       "        (6): Linear(in_features=256, out_features=256, bias=True)\n",
       "        (7): BatchNorm1d(256, eps=1e-05, momentum=0.1, affine=True, track_running_stats=True)\n",
       "        (8): LeakyReLU(negative_slope=0.01)\n",
       "        (9): Linear(in_features=256, out_features=10, bias=True)\n",
       "      )\n",
       "    )\n",
       "    (sub_layers): ModuleList(\n",
       "      (0-19): 20 x ConditionalFlatDoubleCouplingFlowBlock(\n",
       "        (norm_layer): ActNorm()\n",
       "        (coupling): ConditionalDoubleVectorCouplingBlock(\n",
       "          (s): ModuleList(\n",
       "            (0-1): 2 x BasicFullyConnectedNet(\n",
       "              (main): Sequential(\n",
       "                (0): Linear(in_features=15, out_features=1024, bias=True)\n",
       "                (1): LeakyReLU(negative_slope=0.01)\n",
       "                (2): Linear(in_features=1024, out_features=1024, bias=True)\n",
       "                (3): LeakyReLU(negative_slope=0.01)\n",
       "                (4): Linear(in_features=1024, out_features=1024, bias=True)\n",
       "                (5): LeakyReLU(negative_slope=0.01)\n",
       "                (6): Linear(in_features=1024, out_features=5, bias=True)\n",
       "                (7): Tanh()\n",
       "              )\n",
       "            )\n",
       "          )\n",
       "          (t): ModuleList(\n",
       "            (0-1): 2 x BasicFullyConnectedNet(\n",
       "              (main): Sequential(\n",
       "                (0): Linear(in_features=15, out_features=1024, bias=True)\n",
       "                (1): LeakyReLU(negative_slope=0.01)\n",
       "                (2): Linear(in_features=1024, out_features=1024, bias=True)\n",
       "                (3): LeakyReLU(negative_slope=0.01)\n",
       "                (4): Linear(in_features=1024, out_features=1024, bias=True)\n",
       "                (5): LeakyReLU(negative_slope=0.01)\n",
       "                (6): Linear(in_features=1024, out_features=5, bias=True)\n",
       "              )\n",
       "            )\n",
       "          )\n",
       "        )\n",
       "        (activation): IgnoreLeakyRelu()\n",
       "        (shuffle): Shuffle()\n",
       "      )\n",
       "    )\n",
       "  )\n",
       "  (loss): NLL()\n",
       "  (model_con): ChemicalVAE(\n",
       "    (conv_1): Conv1d(120, 9, kernel_size=(9,), stride=(1,))\n",
       "    (conv_2): Conv1d(9, 9, kernel_size=(9,), stride=(1,))\n",
       "    (conv_3): Conv1d(9, 10, kernel_size=(11,), stride=(1,))\n",
       "    (bnConv1): BatchNorm1d(9, eps=1e-05, momentum=0.1, affine=True, track_running_stats=True)\n",
       "    (bnConv2): BatchNorm1d(9, eps=1e-05, momentum=0.1, affine=True, track_running_stats=True)\n",
       "    (bnConv3): BatchNorm1d(10, eps=1e-05, momentum=0.1, affine=True, track_running_stats=True)\n",
       "    (linear_0): Linear(in_features=90, out_features=196, bias=True)\n",
       "    (linear_1): Linear(in_features=196, out_features=196, bias=True)\n",
       "    (linear_2): Linear(in_features=196, out_features=196, bias=True)\n",
       "    (dropout1): Dropout(p=0.08283292970479479, inplace=False)\n",
       "    (bn1): BatchNorm1d(196, eps=1e-05, momentum=0.1, affine=True, track_running_stats=True)\n",
       "    (dropout2): Dropout(p=0.08283292970479479, inplace=False)\n",
       "    (bn2): BatchNorm1d(196, eps=1e-05, momentum=0.1, affine=True, track_running_stats=True)\n",
       "    (linear_3): Linear(in_features=196, out_features=196, bias=True)\n",
       "    (gru): GRU(196, 488, num_layers=3, batch_first=True)\n",
       "    (linear_4): Linear(in_features=488, out_features=35, bias=True)\n",
       "    (relu): ReLU()\n",
       "    (softmax): Softmax(dim=None)\n",
       "    (tanh): Tanh()\n",
       "  )\n",
       ")"
      ]
     },
     "execution_count": 18,
     "metadata": {},
     "output_type": "execute_result"
    }
   ],
   "source": [
    "std_model = Standardize(data_all = data_chem_onehot, model = model_chemvae, device = device)\n",
    "\n",
    "# cell type and dose covariates\n",
    "dose_pd = pd.get_dummies(list(adata.obs['dose'].astype(int).astype(str)))\n",
    "dose_onehot_data = dose_pd.values.astype('float64')\n",
    "\n",
    "cell_type_pd = pd.get_dummies(list(adata.obs['cell_type'].astype(str)))\n",
    "cell_onehot_data = cell_type_pd.values.astype('float64')\n",
    "\n",
    "dose_cell_onehot = np.concatenate((dose_onehot_data, cell_onehot_data), axis=1)\n",
    "\n",
    "if sparse.issparse(adata.X):\n",
    "    usedata = adata.X.A\n",
    "else:\n",
    "    usedata = adata.X\n",
    "\n",
    "if sparse.issparse(adata.layers['counts']):\n",
    "    usedata_count = adata.layers['counts'].A\n",
    "else:\n",
    "    usedata_count = adata.layers['counts']\n",
    "\n",
    "\n",
    "flow_model = ConditionalFlatCouplingFlow(\n",
    "    conditioning_dim=204, # extra 7 columns from cell type and dose\n",
    "\t\t\t\t\t\t\t\t\t\t\t # condition dimensions\n",
    "    embedding_dim=10,\n",
    "    conditioning_depth=2,\n",
    "    n_flows=20,\n",
    "    in_channels=10,\n",
    "    hidden_dim=1024,\n",
    "    hidden_depth=2,\n",
    "    activation=\"none\",\n",
    "    conditioner_use_bn=True\n",
    ")\n",
    "\n",
    "model_c = Net2NetFlow_scVIChemStdStatesFlow(\n",
    "    configured_flow = flow_model,\n",
    "    first_stage_data = usedata_count[kept_indices], \n",
    "    cond_stage_data = data_sciplexKept_onehot, \n",
    "    model_con = model_chemvae, \n",
    "    scvi_model = scvi_model_cinn, \n",
    "    std_model = std_model,\n",
    "    cell_type_onehot = cell_onehot_data[kept_indices],\n",
    "    dose_onehot = dose_onehot_data[kept_indices]\n",
    ")\n",
    "\n",
    "\n",
    "model_c.to(device = device)"
   ]
  },
  {
   "cell_type": "markdown",
   "id": "7acfea51-743c-417c-b20e-060816b7f5d1",
   "metadata": {},
   "source": [
    "### ii) Load the trained model"
   ]
  },
  {
   "cell_type": "code",
   "execution_count": 19,
   "id": "c88d88cf-0735-4c7d-bd26-34924e602f65",
   "metadata": {},
   "outputs": [
    {
     "name": "stdout",
     "output_type": "stream",
     "text": [
      "[Epoch 1/1] [Batch 515/515] [loss: 3.590674/3.194298]\n"
     ]
    }
   ],
   "source": [
    "# (2) evaluation\n",
    "model_c.train(n_epochs = 1, batch_size = 128, lr = 4.5e-6)\n",
    "model_c.load(path_cinn_model_save)"
   ]
  },
  {
   "cell_type": "markdown",
   "id": "efcc1704-9b3a-4a68-a073-54a37b6acdc5",
   "metadata": {},
   "source": [
    "## Evaluate"
   ]
  },
  {
   "cell_type": "code",
   "execution_count": 20,
   "id": "37528fd3-3b97-4605-99b9-a72cf1d34681",
   "metadata": {},
   "outputs": [
    {
     "data": {
      "text/plain": [
       "ChemicalVAE(\n",
       "  (conv_1): Conv1d(120, 9, kernel_size=(9,), stride=(1,))\n",
       "  (conv_2): Conv1d(9, 9, kernel_size=(9,), stride=(1,))\n",
       "  (conv_3): Conv1d(9, 10, kernel_size=(11,), stride=(1,))\n",
       "  (bnConv1): BatchNorm1d(9, eps=1e-05, momentum=0.1, affine=True, track_running_stats=True)\n",
       "  (bnConv2): BatchNorm1d(9, eps=1e-05, momentum=0.1, affine=True, track_running_stats=True)\n",
       "  (bnConv3): BatchNorm1d(10, eps=1e-05, momentum=0.1, affine=True, track_running_stats=True)\n",
       "  (linear_0): Linear(in_features=90, out_features=196, bias=True)\n",
       "  (linear_1): Linear(in_features=196, out_features=196, bias=True)\n",
       "  (linear_2): Linear(in_features=196, out_features=196, bias=True)\n",
       "  (dropout1): Dropout(p=0.08283292970479479, inplace=False)\n",
       "  (bn1): BatchNorm1d(196, eps=1e-05, momentum=0.1, affine=True, track_running_stats=True)\n",
       "  (dropout2): Dropout(p=0.08283292970479479, inplace=False)\n",
       "  (bn2): BatchNorm1d(196, eps=1e-05, momentum=0.1, affine=True, track_running_stats=True)\n",
       "  (linear_3): Linear(in_features=196, out_features=196, bias=True)\n",
       "  (gru): GRU(196, 488, num_layers=3, batch_first=True)\n",
       "  (linear_4): Linear(in_features=488, out_features=35, bias=True)\n",
       "  (relu): ReLU()\n",
       "  (softmax): Softmax(dim=None)\n",
       "  (tanh): Tanh()\n",
       ")"
      ]
     },
     "execution_count": 20,
     "metadata": {},
     "output_type": "execute_result"
    }
   ],
   "source": [
    "model_c.eval()\n",
    "\n",
    "model_g = model_c.model_con\n",
    "model_g.eval()"
   ]
  },
  {
   "cell_type": "code",
   "execution_count": 21,
   "id": "b6808580-36e4-4461-bfa6-d897103113e1",
   "metadata": {},
   "outputs": [],
   "source": [
    "perturbnet_model = SCVIZ_CheckNet2Net(model_c, device, scvi_model_de)"
   ]
  },
  {
   "cell_type": "code",
   "execution_count": 22,
   "id": "417eb66a-dab4-4a7b-8f39-0c7682484a47",
   "metadata": {},
   "outputs": [],
   "source": [
    "idx_ood = np.where((adata.obs[\"split_ood\"] == \"ood\"))[0]\n",
    "adata_ood = adata[idx_ood].copy()\n",
    "dose_cell_onehot_ood = dose_cell_onehot[idx_ood]"
   ]
  },
  {
   "cell_type": "code",
   "execution_count": 23,
   "id": "2a007d00-a771-480f-970a-411fd2e3a16a",
   "metadata": {},
   "outputs": [],
   "source": [
    "idx_test_trts = np.where(\n",
    "    (adata.obs[\"split_ood\"] == \"test\") & (adata.obs[\"vehicle\"] == \"False\")\n",
    ")[0]\n",
    "\n",
    "adata_test_trt = adata[idx_test_trts].copy()\n"
   ]
  },
  {
   "cell_type": "code",
   "execution_count": 24,
   "id": "aa158236-2409-467e-badf-7a7e239bf851",
   "metadata": {},
   "outputs": [],
   "source": [
    "idx_train_trts = np.where(\n",
    "    (adata.obs[\"split_ood\"] == \"train\") & (adata.obs[\"vehicle\"] == \"False\")\n",
    ")[0]\n",
    "\n",
    "adata_train_trt = adata[idx_train_trts].copy()"
   ]
  },
  {
   "cell_type": "code",
   "execution_count": 25,
   "id": "2216d010-593c-4179-8372-0f5d63ed5a5f",
   "metadata": {},
   "outputs": [
    {
     "name": "stdout",
     "output_type": "stream",
     "text": [
      "\u001B[34mINFO    \u001B[0m Input AnnData not setup with scvi-tools. attempting to transfer AnnData setup                             \n"
     ]
    },
    {
     "name": "stderr",
     "output_type": "stream",
     "text": [
      "108it [05:04,  2.82s/it]\n"
     ]
    }
   ],
   "source": [
    "drug_r2_ctrl = compute_prediction_normmodel_ctrl(\n",
    "    adata_ood=adata_ood,\n",
    "    adata=adata,\n",
    "    dose_cell_onehot_ood=dose_cell_onehot_ood,\n",
    "    scvi_model_cinn=scvi_model_cinn,\n",
    "    model_g=model_g,\n",
    "    std_model=std_model,\n",
    "    perturbnet_model=perturbnet_model,\n",
    "    device=device,\n",
    "    verbose=False\n",
    ")"
   ]
  },
  {
   "cell_type": "code",
   "execution_count": 26,
   "id": "5bd09df5-94fe-48e4-96cc-8ffec972c380",
   "metadata": {},
   "outputs": [],
   "source": [
    "df_all_ctrl = create_df_max(drug_r2_ctrl)\n",
    "mean_all_ctrl = df_all_ctrl.groupby(by=[\"dose\"]).mean(\"r2_de\").reset_index()\n",
    "median_all_ctrl = df_all_ctrl.groupby(by=[\"dose\"]).median(\"r2_de\").reset_index()"
   ]
  },
  {
   "cell_type": "code",
   "execution_count": 27,
   "id": "a5711107-06c7-471c-95c6-f27e9595daa3",
   "metadata": {},
   "outputs": [
    {
     "data": {
      "text/html": [
       "<div>\n",
       "<style scoped>\n",
       "    .dataframe tbody tr th:only-of-type {\n",
       "        vertical-align: middle;\n",
       "    }\n",
       "\n",
       "    .dataframe tbody tr th {\n",
       "        vertical-align: top;\n",
       "    }\n",
       "\n",
       "    .dataframe thead th {\n",
       "        text-align: right;\n",
       "    }\n",
       "</style>\n",
       "<table border=\"1\" class=\"dataframe\">\n",
       "  <thead>\n",
       "    <tr style=\"text-align: right;\">\n",
       "      <th></th>\n",
       "      <th>dose</th>\n",
       "      <th>r2</th>\n",
       "      <th>r</th>\n",
       "    </tr>\n",
       "  </thead>\n",
       "  <tbody>\n",
       "    <tr>\n",
       "      <th>0</th>\n",
       "      <td>0.001</td>\n",
       "      <td>0.613220</td>\n",
       "      <td>0.613220</td>\n",
       "    </tr>\n",
       "    <tr>\n",
       "      <th>1</th>\n",
       "      <td>0.010</td>\n",
       "      <td>0.511364</td>\n",
       "      <td>0.511364</td>\n",
       "    </tr>\n",
       "    <tr>\n",
       "      <th>2</th>\n",
       "      <td>0.100</td>\n",
       "      <td>0.400939</td>\n",
       "      <td>0.400939</td>\n",
       "    </tr>\n",
       "    <tr>\n",
       "      <th>3</th>\n",
       "      <td>1.000</td>\n",
       "      <td>0.224406</td>\n",
       "      <td>0.224406</td>\n",
       "    </tr>\n",
       "  </tbody>\n",
       "</table>\n",
       "</div>"
      ],
      "text/plain": [
       "    dose        r2         r\n",
       "0  0.001  0.613220  0.613220\n",
       "1  0.010  0.511364  0.511364\n",
       "2  0.100  0.400939  0.400939\n",
       "3  1.000  0.224406  0.224406"
      ]
     },
     "execution_count": 27,
     "metadata": {},
     "output_type": "execute_result"
    }
   ],
   "source": [
    "mean_all_ctrl"
   ]
  },
  {
   "cell_type": "code",
   "execution_count": 28,
   "id": "fdb932fa-c9f2-4e00-92b3-7dcd682247b6",
   "metadata": {},
   "outputs": [
    {
     "name": "stdout",
     "output_type": "stream",
     "text": [
      "\u001B[34mINFO    \u001B[0m Input AnnData not setup with scvi-tools. attempting to transfer AnnData setup                             \n"
     ]
    },
    {
     "name": "stderr",
     "output_type": "stream",
     "text": [
      "108it [40:31, 22.51s/it]\n"
     ]
    }
   ],
   "source": [
    "drug_r2, drug_r2_full = compute_prediction_normmodel(\n",
    "    adata_ood=adata_ood,\n",
    "    adata_ref=adata_train_trt,\n",
    "    adata=adata,\n",
    "    dose_cell_onehot_ood=dose_cell_onehot_ood,\n",
    "    scvi_model_cinn=scvi_model_cinn,\n",
    "    model_g=model_g,\n",
    "    std_model=std_model,\n",
    "    perturbnet_model=perturbnet_model,\n",
    "    device=device,\n",
    "    verbose=False\n",
    ")"
   ]
  },
  {
   "cell_type": "code",
   "execution_count": 29,
   "id": "70bd7e3f-5f43-4008-b47f-ae27fbad4041",
   "metadata": {},
   "outputs": [],
   "source": [
    "drug_r2_max = {}\n",
    "for comb in drug_r2_full:\n",
    "    drug_r2_max[comb] = np.max(list(drug_r2_full[comb].values()))"
   ]
  },
  {
   "cell_type": "code",
   "execution_count": 30,
   "id": "7617229b-475e-423b-865c-8fb636efb0ca",
   "metadata": {},
   "outputs": [],
   "source": [
    "df_all_max = create_df_max(drug_r2_max)\n",
    "mean_all_max = df_all_max.groupby(by=[\"dose\"]).mean(\"r2_de\").reset_index()\n",
    "median_all_max = df_all_max.groupby(by=[\"dose\"]).median(\"r2_de\").reset_index()"
   ]
  },
  {
   "cell_type": "code",
   "execution_count": 31,
   "id": "5f0969c7-2494-4cbe-b904-07355dc8dcd6",
   "metadata": {},
   "outputs": [
    {
     "data": {
      "text/html": [
       "<div>\n",
       "<style scoped>\n",
       "    .dataframe tbody tr th:only-of-type {\n",
       "        vertical-align: middle;\n",
       "    }\n",
       "\n",
       "    .dataframe tbody tr th {\n",
       "        vertical-align: top;\n",
       "    }\n",
       "\n",
       "    .dataframe thead th {\n",
       "        text-align: right;\n",
       "    }\n",
       "</style>\n",
       "<table border=\"1\" class=\"dataframe\">\n",
       "  <thead>\n",
       "    <tr style=\"text-align: right;\">\n",
       "      <th></th>\n",
       "      <th>dose</th>\n",
       "      <th>r2</th>\n",
       "      <th>r</th>\n",
       "    </tr>\n",
       "  </thead>\n",
       "  <tbody>\n",
       "    <tr>\n",
       "      <th>0</th>\n",
       "      <td>0.001</td>\n",
       "      <td>0.187643</td>\n",
       "      <td>0.187643</td>\n",
       "    </tr>\n",
       "    <tr>\n",
       "      <th>1</th>\n",
       "      <td>0.010</td>\n",
       "      <td>0.165635</td>\n",
       "      <td>0.165635</td>\n",
       "    </tr>\n",
       "    <tr>\n",
       "      <th>2</th>\n",
       "      <td>0.100</td>\n",
       "      <td>0.154935</td>\n",
       "      <td>0.154935</td>\n",
       "    </tr>\n",
       "    <tr>\n",
       "      <th>3</th>\n",
       "      <td>1.000</td>\n",
       "      <td>0.101398</td>\n",
       "      <td>0.101398</td>\n",
       "    </tr>\n",
       "  </tbody>\n",
       "</table>\n",
       "</div>"
      ],
      "text/plain": [
       "    dose        r2         r\n",
       "0  0.001  0.187643  0.187643\n",
       "1  0.010  0.165635  0.165635\n",
       "2  0.100  0.154935  0.154935\n",
       "3  1.000  0.101398  0.101398"
      ]
     },
     "execution_count": 31,
     "metadata": {},
     "output_type": "execute_result"
    }
   ],
   "source": [
    "mean_all_max"
   ]
  },
  {
   "cell_type": "code",
   "execution_count": null,
   "id": "4f4ae935-0d5a-446b-afa3-7a398403d0fa",
   "metadata": {},
   "outputs": [],
   "source": []
  }
 ],
 "metadata": {
  "kernelspec": {
   "display_name": "venvjax",
   "language": "python",
   "name": "venvjax"
  },
  "language_info": {
   "codemirror_mode": {
    "name": "ipython",
    "version": 3
   },
   "file_extension": ".py",
   "mimetype": "text/x-python",
   "name": "python",
   "nbconvert_exporter": "python",
   "pygments_lexer": "ipython3",
   "version": "3.9.2"
  }
 },
 "nbformat": 4,
 "nbformat_minor": 5
}
